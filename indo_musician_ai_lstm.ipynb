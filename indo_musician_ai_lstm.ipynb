{
 "cells": [
  {
   "cell_type": "markdown",
   "id": "1d2c409a-4c11-4edb-b8b5-f7fb53effe90",
   "metadata": {},
   "source": [
    "# indo_musician_ai_lstm\n",
    "generate lirik lagu pakai LSTM\n",
    "<br>\n",
    "note: lirik lagu yang gak make sense\n",
    "<br>\n",
    "dataset: https://www.kaggle.com/datasets/ilmaaliyaf/indonesia-musicians-songs-lyrics\n",
    "<br>\n",
    "model yang udah ditrain di notebook ini: https://drive.google.com/file/d/1_zrRKb34xvHOql8nSJ7wc50EFQFkg6yk/view?usp=sharing\n",
    "<br>\n",
    "trained textvectorization: https://drive.google.com/file/d/1dN8ZLDlPSFp4j4K9BKiOUMa3QnMj7YxF/view?usp=sharing\n"
   ]
  },
  {
   "cell_type": "code",
   "execution_count": 8,
   "id": "f14a0859",
   "metadata": {
    "tags": []
   },
   "outputs": [
    {
     "name": "stdout",
     "output_type": "stream",
     "text": [
      "Collecting PySastrawi\n",
      "  Downloading PySastrawi-1.2.0-py2.py3-none-any.whl.metadata (892 bytes)\n",
      "Collecting wordcloud\n",
      "  Downloading wordcloud-1.9.3-cp311-cp311-manylinux_2_17_x86_64.manylinux2014_x86_64.whl.metadata (3.4 kB)\n",
      "Requirement already satisfied: numpy>=1.6.1 in /usr/local/lib/python3.11/dist-packages (from wordcloud) (1.26.3)\n",
      "Requirement already satisfied: pillow in /usr/local/lib/python3.11/dist-packages (from wordcloud) (9.5.0)\n",
      "Requirement already satisfied: matplotlib in /usr/local/lib/python3.11/dist-packages (from wordcloud) (3.7.3)\n",
      "Requirement already satisfied: contourpy>=1.0.1 in /usr/local/lib/python3.11/dist-packages (from matplotlib->wordcloud) (1.2.0)\n",
      "Requirement already satisfied: cycler>=0.10 in /usr/local/lib/python3.11/dist-packages (from matplotlib->wordcloud) (0.12.1)\n",
      "Requirement already satisfied: fonttools>=4.22.0 in /usr/local/lib/python3.11/dist-packages (from matplotlib->wordcloud) (4.47.2)\n",
      "Requirement already satisfied: kiwisolver>=1.0.1 in /usr/local/lib/python3.11/dist-packages (from matplotlib->wordcloud) (1.4.5)\n",
      "Requirement already satisfied: packaging>=20.0 in /usr/local/lib/python3.11/dist-packages (from matplotlib->wordcloud) (23.2)\n",
      "Requirement already satisfied: pyparsing>=2.3.1 in /usr/lib/python3/dist-packages (from matplotlib->wordcloud) (2.4.7)\n",
      "Requirement already satisfied: python-dateutil>=2.7 in /usr/local/lib/python3.11/dist-packages (from matplotlib->wordcloud) (2.8.2)\n",
      "Requirement already satisfied: six>=1.5 in /usr/lib/python3/dist-packages (from python-dateutil>=2.7->matplotlib->wordcloud) (1.16.0)\n",
      "Downloading PySastrawi-1.2.0-py2.py3-none-any.whl (210 kB)\n",
      "\u001b[2K   \u001b[90m━━━━━━━━━━━━━━━━━━━━━━━━━━━━━━━━━━━━━━━━\u001b[0m \u001b[32m210.6/210.6 kB\u001b[0m \u001b[31m4.4 MB/s\u001b[0m eta \u001b[36m0:00:00\u001b[0ma \u001b[36m0:00:01\u001b[0m\n",
      "\u001b[?25hDownloading wordcloud-1.9.3-cp311-cp311-manylinux_2_17_x86_64.manylinux2014_x86_64.whl (548 kB)\n",
      "\u001b[2K   \u001b[90m━━━━━━━━━━━━━━━━━━━━━━━━━━━━━━━━━━━━━━━━\u001b[0m \u001b[32m548.3/548.3 kB\u001b[0m \u001b[31m52.6 MB/s\u001b[0m eta \u001b[36m0:00:00\u001b[0m\n",
      "\u001b[?25hInstalling collected packages: PySastrawi, wordcloud\n",
      "Successfully installed PySastrawi-1.2.0 wordcloud-1.9.3\n",
      "\u001b[33mWARNING: Running pip as the 'root' user can result in broken permissions and conflicting behaviour with the system package manager. It is recommended to use a virtual environment instead: https://pip.pypa.io/warnings/venv\u001b[0m\u001b[33m\n",
      "\u001b[0m"
     ]
    }
   ],
   "source": [
    "!pip install PySastrawi wordcloud\n"
   ]
  },
  {
   "cell_type": "code",
   "execution_count": 9,
   "id": "556494df",
   "metadata": {
    "tags": []
   },
   "outputs": [
    {
     "name": "stderr",
     "output_type": "stream",
     "text": [
      "2024-10-31 14:09:55.200292: E external/local_xla/xla/stream_executor/cuda/cuda_dnn.cc:9261] Unable to register cuDNN factory: Attempting to register factory for plugin cuDNN when one has already been registered\n",
      "2024-10-31 14:09:55.200426: E external/local_xla/xla/stream_executor/cuda/cuda_fft.cc:607] Unable to register cuFFT factory: Attempting to register factory for plugin cuFFT when one has already been registered\n",
      "2024-10-31 14:09:55.297111: E external/local_xla/xla/stream_executor/cuda/cuda_blas.cc:1515] Unable to register cuBLAS factory: Attempting to register factory for plugin cuBLAS when one has already been registered\n",
      "2024-10-31 14:09:55.496919: I tensorflow/core/platform/cpu_feature_guard.cc:182] This TensorFlow binary is optimized to use available CPU instructions in performance-critical operations.\n",
      "To enable the following instructions: AVX2 FMA, in other operations, rebuild TensorFlow with the appropriate compiler flags.\n",
      "2024-10-31 14:09:57.403747: W tensorflow/compiler/tf2tensorrt/utils/py_utils.cc:38] TF-TRT Warning: Could not find TensorRT\n"
     ]
    }
   ],
   "source": [
    "import numpy as np \n",
    "import pandas as pd \n",
    "import nltk\n",
    "import re\n",
    "import seaborn as sns\n",
    "import matplotlib.pyplot as plt\n",
    "import random\n",
    "import io\n",
    "import requests\n",
    "from bs4 import BeautifulSoup\n",
    "import concurrent.futures\n",
    "import csv\n",
    "from tqdm import tqdm\n",
    "import pickle\n",
    "from wordcloud import WordCloud, STOPWORDS, ImageColorGenerator\n",
    "from Sastrawi.Stemmer.StemmerFactory import StemmerFactory\n",
    "import tensorflow as tf"
   ]
  },
  {
   "cell_type": "code",
   "execution_count": 10,
   "id": "1fe24b1d",
   "metadata": {
    "tags": []
   },
   "outputs": [
    {
     "data": {
      "text/html": [
       "<div>\n",
       "<style scoped>\n",
       "    .dataframe tbody tr th:only-of-type {\n",
       "        vertical-align: middle;\n",
       "    }\n",
       "\n",
       "    .dataframe tbody tr th {\n",
       "        vertical-align: top;\n",
       "    }\n",
       "\n",
       "    .dataframe thead th {\n",
       "        text-align: right;\n",
       "    }\n",
       "</style>\n",
       "<table border=\"1\" class=\"dataframe\">\n",
       "  <thead>\n",
       "    <tr style=\"text-align: right;\">\n",
       "      <th></th>\n",
       "      <th>link</th>\n",
       "      <th>title</th>\n",
       "      <th>artist</th>\n",
       "      <th>lyrics</th>\n",
       "    </tr>\n",
       "  </thead>\n",
       "  <tbody>\n",
       "    <tr>\n",
       "      <th>0</th>\n",
       "      <td>https://lirik.kapanlagi.com/artis/sisi/a-bless...</td>\n",
       "      <td>A Blessing</td>\n",
       "      <td>Sisi</td>\n",
       "      <td>He's my everything... He's my everynight\\nFrom...</td>\n",
       "    </tr>\n",
       "    <tr>\n",
       "      <th>1</th>\n",
       "      <td>https://lirik.kapanlagi.com/artis/ice-cube/a-b...</td>\n",
       "      <td>A Boy Was Conceived (Intro)</td>\n",
       "      <td>Ice Cube</td>\n",
       "      <td>[Keith David]\\nOnly three short years after th...</td>\n",
       "    </tr>\n",
       "    <tr>\n",
       "      <th>2</th>\n",
       "      <td>https://lirik.kapanlagi.com/artis/ten-2-five/a...</td>\n",
       "      <td>A Brand New Day</td>\n",
       "      <td>Ten 2 Five</td>\n",
       "      <td>A brand new day for you and me\\nIn this place ...</td>\n",
       "    </tr>\n",
       "    <tr>\n",
       "      <th>3</th>\n",
       "      <td>https://lirik.kapanlagi.com/artis/anggun/a-cha...</td>\n",
       "      <td>A Change</td>\n",
       "      <td>Anggun</td>\n",
       "      <td>NaN</td>\n",
       "    </tr>\n",
       "    <tr>\n",
       "      <th>4</th>\n",
       "      <td>https://lirik.kapanlagi.com/artis/showofthehan...</td>\n",
       "      <td>A Kiss Without A Heart With So Much Fun</td>\n",
       "      <td>ShowOfTheHands</td>\n",
       "      <td>NaN</td>\n",
       "    </tr>\n",
       "  </tbody>\n",
       "</table>\n",
       "</div>"
      ],
      "text/plain": [
       "                                                link  \\\n",
       "0  https://lirik.kapanlagi.com/artis/sisi/a-bless...   \n",
       "1  https://lirik.kapanlagi.com/artis/ice-cube/a-b...   \n",
       "2  https://lirik.kapanlagi.com/artis/ten-2-five/a...   \n",
       "3  https://lirik.kapanlagi.com/artis/anggun/a-cha...   \n",
       "4  https://lirik.kapanlagi.com/artis/showofthehan...   \n",
       "\n",
       "                                     title          artist  \\\n",
       "0                               A Blessing            Sisi   \n",
       "1              A Boy Was Conceived (Intro)        Ice Cube   \n",
       "2                          A Brand New Day      Ten 2 Five   \n",
       "3                                 A Change          Anggun   \n",
       "4  A Kiss Without A Heart With So Much Fun  ShowOfTheHands   \n",
       "\n",
       "                                              lyrics  \n",
       "0  He's my everything... He's my everynight\\nFrom...  \n",
       "1  [Keith David]\\nOnly three short years after th...  \n",
       "2  A brand new day for you and me\\nIn this place ...  \n",
       "3                                                NaN  \n",
       "4                                                NaN  "
      ]
     },
     "execution_count": 10,
     "metadata": {},
     "output_type": "execute_result"
    }
   ],
   "source": [
    "df = pd.read_csv(\"./indonesian_songs_lyrics.csv\")\n",
    "df.head()"
   ]
  },
  {
   "cell_type": "code",
   "execution_count": 11,
   "id": "63d3482a",
   "metadata": {
    "tags": []
   },
   "outputs": [
    {
     "name": "stderr",
     "output_type": "stream",
     "text": [
      "[nltk_data] Downloading collection 'popular'\n",
      "[nltk_data]    | \n",
      "[nltk_data]    | Downloading package cmudict to /root/nltk_data...\n",
      "[nltk_data]    |   Unzipping corpora/cmudict.zip.\n",
      "[nltk_data]    | Downloading package gazetteers to /root/nltk_data...\n",
      "[nltk_data]    |   Unzipping corpora/gazetteers.zip.\n",
      "[nltk_data]    | Downloading package genesis to /root/nltk_data...\n",
      "[nltk_data]    |   Unzipping corpora/genesis.zip.\n",
      "[nltk_data]    | Downloading package gutenberg to /root/nltk_data...\n",
      "[nltk_data]    |   Unzipping corpora/gutenberg.zip.\n",
      "[nltk_data]    | Downloading package inaugural to /root/nltk_data...\n",
      "[nltk_data]    |   Unzipping corpora/inaugural.zip.\n",
      "[nltk_data]    | Downloading package movie_reviews to\n",
      "[nltk_data]    |     /root/nltk_data...\n",
      "[nltk_data]    |   Unzipping corpora/movie_reviews.zip.\n",
      "[nltk_data]    | Downloading package names to /root/nltk_data...\n",
      "[nltk_data]    |   Unzipping corpora/names.zip.\n",
      "[nltk_data]    | Downloading package shakespeare to /root/nltk_data...\n",
      "[nltk_data]    |   Unzipping corpora/shakespeare.zip.\n",
      "[nltk_data]    | Downloading package stopwords to /root/nltk_data...\n",
      "[nltk_data]    |   Unzipping corpora/stopwords.zip.\n",
      "[nltk_data]    | Downloading package treebank to /root/nltk_data...\n",
      "[nltk_data]    |   Unzipping corpora/treebank.zip.\n",
      "[nltk_data]    | Downloading package twitter_samples to\n",
      "[nltk_data]    |     /root/nltk_data...\n",
      "[nltk_data]    |   Unzipping corpora/twitter_samples.zip.\n",
      "[nltk_data]    | Downloading package omw to /root/nltk_data...\n",
      "[nltk_data]    | Downloading package omw-1.4 to /root/nltk_data...\n",
      "[nltk_data]    | Downloading package wordnet to /root/nltk_data...\n",
      "[nltk_data]    | Downloading package wordnet2021 to /root/nltk_data...\n",
      "[nltk_data]    | Downloading package wordnet31 to /root/nltk_data...\n",
      "[nltk_data]    | Downloading package wordnet_ic to /root/nltk_data...\n",
      "[nltk_data]    |   Unzipping corpora/wordnet_ic.zip.\n",
      "[nltk_data]    | Downloading package words to /root/nltk_data...\n",
      "[nltk_data]    |   Unzipping corpora/words.zip.\n",
      "[nltk_data]    | Downloading package maxent_ne_chunker to\n",
      "[nltk_data]    |     /root/nltk_data...\n",
      "[nltk_data]    |   Unzipping chunkers/maxent_ne_chunker.zip.\n",
      "[nltk_data]    | Downloading package punkt to /root/nltk_data...\n",
      "[nltk_data]    |   Unzipping tokenizers/punkt.zip.\n",
      "[nltk_data]    | Downloading package snowball_data to\n",
      "[nltk_data]    |     /root/nltk_data...\n",
      "[nltk_data]    | Downloading package averaged_perceptron_tagger to\n",
      "[nltk_data]    |     /root/nltk_data...\n",
      "[nltk_data]    |   Unzipping taggers/averaged_perceptron_tagger.zip.\n",
      "[nltk_data]    | \n",
      "[nltk_data]  Done downloading collection popular\n",
      "[nltk_data] Downloading package punkt_tab to /root/nltk_data...\n",
      "[nltk_data]   Unzipping tokenizers/punkt_tab.zip.\n"
     ]
    }
   ],
   "source": [
    "nltk.download('popular')\n",
    "nltk.download('punkt_tab')\n",
    "\n",
    "factory = StemmerFactory()\n",
    "stemmer = factory.create_stemmer()\n",
    "\n",
    "stop_words = set(nltk.corpus.stopwords.words('indonesian'))"
   ]
  },
  {
   "cell_type": "code",
   "execution_count": 12,
   "id": "7f4e115c",
   "metadata": {
    "tags": []
   },
   "outputs": [
    {
     "name": "stdout",
     "output_type": "stream",
     "text": [
      "sebelum dropna:  22145\n",
      "setelah dropna:  17996\n",
      "setelah kurangi:  15000\n"
     ]
    }
   ],
   "source": [
    "print(\"sebelum dropna: \", df.shape[0])\n",
    "df = df.dropna(subset=['lyrics'])\n",
    "\n",
    "print(\"setelah dropna: \", df.shape[0])\n",
    "df = df.iloc[:15000]\n",
    "print(\"setelah kurangi: \", df.shape[0])\n",
    "\n"
   ]
  },
  {
   "cell_type": "code",
   "execution_count": 13,
   "id": "9fe4ca1f",
   "metadata": {
    "tags": []
   },
   "outputs": [],
   "source": [
    "df[\"char_num\"] = df[\"lyrics\"].apply(len)\n",
    "df[\"word_num\"] = df.apply(lambda row: nltk.word_tokenize(row[\"lyrics\"]), axis=1).apply(len)"
   ]
  },
  {
   "cell_type": "code",
   "execution_count": 14,
   "id": "a38dbdf0",
   "metadata": {
    "tags": []
   },
   "outputs": [
    {
     "data": {
      "text/html": [
       "<div>\n",
       "<style scoped>\n",
       "    .dataframe tbody tr th:only-of-type {\n",
       "        vertical-align: middle;\n",
       "    }\n",
       "\n",
       "    .dataframe tbody tr th {\n",
       "        vertical-align: top;\n",
       "    }\n",
       "\n",
       "    .dataframe thead th {\n",
       "        text-align: right;\n",
       "    }\n",
       "</style>\n",
       "<table border=\"1\" class=\"dataframe\">\n",
       "  <thead>\n",
       "    <tr style=\"text-align: right;\">\n",
       "      <th></th>\n",
       "      <th>char_num</th>\n",
       "      <th>word_num</th>\n",
       "    </tr>\n",
       "  </thead>\n",
       "  <tbody>\n",
       "    <tr>\n",
       "      <th>count</th>\n",
       "      <td>15000.000000</td>\n",
       "      <td>15000.000000</td>\n",
       "    </tr>\n",
       "    <tr>\n",
       "      <th>mean</th>\n",
       "      <td>705.204800</td>\n",
       "      <td>121.296333</td>\n",
       "    </tr>\n",
       "    <tr>\n",
       "      <th>std</th>\n",
       "      <td>408.947723</td>\n",
       "      <td>80.372401</td>\n",
       "    </tr>\n",
       "    <tr>\n",
       "      <th>min</th>\n",
       "      <td>12.000000</td>\n",
       "      <td>3.000000</td>\n",
       "    </tr>\n",
       "    <tr>\n",
       "      <th>25%</th>\n",
       "      <td>454.000000</td>\n",
       "      <td>74.000000</td>\n",
       "    </tr>\n",
       "    <tr>\n",
       "      <th>50%</th>\n",
       "      <td>608.500000</td>\n",
       "      <td>101.000000</td>\n",
       "    </tr>\n",
       "    <tr>\n",
       "      <th>75%</th>\n",
       "      <td>852.000000</td>\n",
       "      <td>144.000000</td>\n",
       "    </tr>\n",
       "    <tr>\n",
       "      <th>max</th>\n",
       "      <td>9784.000000</td>\n",
       "      <td>1610.000000</td>\n",
       "    </tr>\n",
       "  </tbody>\n",
       "</table>\n",
       "</div>"
      ],
      "text/plain": [
       "           char_num      word_num\n",
       "count  15000.000000  15000.000000\n",
       "mean     705.204800    121.296333\n",
       "std      408.947723     80.372401\n",
       "min       12.000000      3.000000\n",
       "25%      454.000000     74.000000\n",
       "50%      608.500000    101.000000\n",
       "75%      852.000000    144.000000\n",
       "max     9784.000000   1610.000000"
      ]
     },
     "execution_count": 14,
     "metadata": {},
     "output_type": "execute_result"
    }
   ],
   "source": [
    "df.describe()"
   ]
  },
  {
   "cell_type": "code",
   "execution_count": 15,
   "id": "1a9dd57e",
   "metadata": {
    "tags": []
   },
   "outputs": [
    {
     "data": {
      "image/png": "[encoded data removed]",
      "text/plain": [
       "<Figure size 1200x1200 with 1 Axes>"
      ]
     },
     "metadata": {},
     "output_type": "display_data"
    }
   ],
   "source": [
    "wordcloud = WordCloud(stopwords=stop_words).generate(\" \".join(df[\"lyrics\"]))\n",
    "plt.figure(figsize=(12,12))\n",
    "plt.imshow(wordcloud, interpolation=\"bilinear\")\n",
    "plt.show()"
   ]
  },
  {
   "cell_type": "code",
   "execution_count": 16,
   "id": "a6561ac4",
   "metadata": {
    "tags": []
   },
   "outputs": [],
   "source": [
    "corpus =''\n",
    "for idx, row in df.iterrows():\n",
    "    corpus += row[\"lyrics\"] + \"\\n\"\n",
    "# gak di stemming karena lirik lagu\n",
    "corpus = corpus.lower() "
   ]
  },
  {
   "cell_type": "code",
   "execution_count": 17,
   "id": "f8dd7e5a",
   "metadata": {
    "tags": []
   },
   "outputs": [
    {
     "name": "stdout",
     "output_type": "stream",
     "text": [
      "a dirimu terus begitu\n",
      "aku pulangkan kamu\n",
      "jahe jahe alala tum jahe jahe\n",
      "nehi nehi aca aca nehi nehi\n",
      "jahe jahe alala tum jahe jahe\n",
      "aca aca aca nehi nehi nehi\n",
      "alala tum jahe jahe aca aca nehi nehi\n",
      "aduh biyung inyong ora sudi\n",
      "bila sifatmu terus begitu\n",
      "pulang saja kau pulang ke rumah orang tuamu\n",
      "alala tum jahe jahe aca aca nehi nehi\n",
      "aduh biyung inyong ora sudi\n",
      "bila dirimu terus begitu\n",
      "aku pulangkan kamu\n",
      "sedang apa, hai manusia di dunia?\n",
      "resah rasa penuh angan tak terarah\n",
      "seperti warna dalam ruang bercorak\n",
      "mewarnai keinginan di kehidupan\n",
      "acak corak melekat di setiap manusia\n",
      "hanya mereka yang mendengar dan berubah\n",
      "di saat waktu membisikkan sebuah pesan\n",
      "sedang apa, hai manusia di dunia?\n",
      "resah rasa penuh angan tak terarah\n",
      "acak corak melekat di setiap manusia\n",
      "manusia\n",
      "acak corak melekat mewarnai\n",
      "dan acak corak melekat di setiap manusia\n",
      "sedang apa, hai manusia di dunia?\n",
      "mari marilah kita, mari marilah kita\n",
      "mencari cinta saja\n",
      "mari marilah kita, mari marilah kita\n",
      "daripada makan hati\n",
      "bukan uang bukan harta, bukan emas dan pertama\n",
      "hanyalah cinta yang ku pinta\n",
      "daripada bersandiwara pura-pura kau setia\n",
      "ternyata kau wanita serbaguna\n",
      "astaga! masa iya! tak percaya!\n",
      "reff:\n",
      "acdc aha ehe benci benci hatiku padamu padanya\n",
      "duduk berdua canda cumbu bermesraan\n",
      "acdc aha ehe sakit hatiku padamu padanya\n",
      "yang ku cinta ternyata engkaulah cinta dunia\n",
      "acdc aha ehe kau simpan … rese\n",
      "yang suka gonta-ganti pasangan duh amit-amit deh\n",
      "nananana nanana nanananana\n",
      "nananana nanana nanananana\n",
      "nananana nanana nanananana\n",
      "nananana nanana nanananana\n",
      "[rap]\n",
      "yeah! super nine boys! s9b!\n",
      "aku merasakan cinta yang ada pada dirimu\n",
      "dunia terhebat cinta padaku\n",
      "bahkan ku tahu kau bingung gonta-ganti melulu\n",
      "dan takkan ragu tuk tetap miliki aku\n",
      "acdc aha ehe antara cinta dan curiga\n",
      "mari marilah kita, mari marilah kita\n",
      "putuskan cinta saja\n",
      "mari marilah kita, mari marilah kita\n",
      "daripada makan hati\n",
      "bukan uang bukan harta, bukan emas dan pertama\n",
      "hanyalah cinta yang ku pinta\n",
      "daripada bersandiwara pura-pura kau setia\n",
      "ternyata kau wanita\n"
     ]
    }
   ],
   "source": [
    "print(corpus[60000:62000])"
   ]
  },
  {
   "cell_type": "code",
   "execution_count": 18,
   "id": "72bd6cea",
   "metadata": {
    "tags": []
   },
   "outputs": [],
   "source": [
    "tokenizer = nltk.tokenize.RegexpTokenizer(r'\\w+')\n",
    "tokens = tokenizer.tokenize(corpus)\n",
    "\n",
    "words_exclude_stopword = [w for w in tokens if w not in stop_words]\n"
   ]
  },
  {
   "cell_type": "code",
   "execution_count": 19,
   "id": "aed7ce25",
   "metadata": {
    "tags": []
   },
   "outputs": [
    {
     "name": "stdout",
     "output_type": "stream",
     "text": [
      "top 20 kata: \n"
     ]
    },
    {
     "data": {
      "text/plain": [
       "[('kau', 32767),\n",
       " ('ku', 31881),\n",
       " ('cinta', 16694),\n",
       " ('i', 13093),\n",
       " ('you', 11507),\n",
       " ('hati', 8715),\n",
       " ('to', 7317),\n",
       " ('oh', 6888),\n",
       " ('the', 6792),\n",
       " ('hatiku', 6030),\n",
       " ('dirimu', 5932),\n",
       " ('reff', 5490),\n",
       " ('sayang', 4660),\n",
       " ('engkau', 4432),\n",
       " ('and', 4392),\n",
       " ('diriku', 4391),\n",
       " ('me', 4273),\n",
       " ('a', 4122),\n",
       " ('it', 4012),\n",
       " ('s', 4007)]"
      ]
     },
     "execution_count": 19,
     "metadata": {},
     "output_type": "execute_result"
    }
   ],
   "source": [
    "fdist = nltk.probability.FreqDist(words_exclude_stopword)\n",
    "print(\"top 20 kata: \")\n",
    "fdist.most_common(20)"
   ]
  },
  {
   "cell_type": "code",
   "execution_count": 20,
   "id": "6fd60f2a",
   "metadata": {
    "tags": []
   },
   "outputs": [
    {
     "name": "stdout",
     "output_type": "stream",
     "text": [
      "jumlah kata unik di corpus 52872\n"
     ]
    }
   ],
   "source": [
    "print(f\"jumlah kata unik di corpus {len(set(words_exclude_stopword))}\")"
   ]
  },
  {
   "cell_type": "code",
   "execution_count": 21,
   "id": "b467c45f",
   "metadata": {
    "tags": []
   },
   "outputs": [
    {
     "name": "stdout",
     "output_type": "stream",
     "text": [
      "{'…', '+', '7', ')', 'œ', '—', 'b', 'í', 'j', 'õ', 'ï', 'f', '=', 'þ', '\\xa0', '¿', 'x', 'ù', '¢', 'ä', '9', 'ì', 'e', '>', '¦', '\"', '´', '`', 'ú', 'ß', '/', '“', 'ð', '¬', '\\ufeff', '’', 'r', 'ñ', '@', '\\t', 't', 'y', '5', ',', '!', '”', '%', 'û', 'é', 'n', 'ô', '\\n', 'm', '|', '0', '‘', '²', 'k', '€', 'á', 'w', 'z', '#', 'q', '\\x9d', 'v', '2', '8', '*', 'ê', '3', 'ç', 'å', '�', ':', 's', ';', 'î', '™', \"'\", '¼', 'g', 'ó', 'ö', 'h', '}', '\\x7f', 'p', '©', '(', 'c', '.', '_', 'ò', 'æ', 'ü', '„', 'o', 'l', 'ë', '&', '¯', '{', '–', '‚', ' ', '-', 'è', '[', 'ø', '\\\\', ']', 'a', '6', 'ý', 'i', 'u', 'ã', 'd', '~', 'à', '<', 'â', '?', '1', '»', '4', '\\u2028'}\n"
     ]
    }
   ],
   "source": [
    "print(set(corpus))"
   ]
  },
  {
   "cell_type": "code",
   "execution_count": 22,
   "id": "f80c216a",
   "metadata": {
    "tags": []
   },
   "outputs": [
    {
     "name": "stdout",
     "output_type": "stream",
     "text": [
      "kita, mari marilah kita\n",
      "mencari cinta saja\n",
      "mari marilah kita, mari marilah kita\n",
      "daripada makan hati\n",
      "bukan uang bukan harta, bukan emas dan pertama\n",
      "hanyalah cinta yang ku pinta\n",
      "daripada bersandiwara pura-pura kau setia\n",
      "ternyata kau wanita serbaguna\n",
      "astaga masa iya tak percaya\n",
      "reff\n",
      "acdc aha ehe benci benci hatiku padamu padanya\n",
      "duduk berdua canda cumbu bermesraan\n",
      "acdc aha ehe sakit hatiku padamu padanya\n",
      "yang ku cinta ternyata engkaulah cinta dunia\n",
      "acdc aha ehe kau simpan  rese\n",
      "yang suka gonta-ganti pasangan duh amit-amit deh\n",
      "nananana nanana nanananana\n",
      "nananana nanana nanananana\n",
      "nananana nanana nanananana\n",
      "nananana nanana nanananana\n",
      "rap\n",
      "yeah super nine boys sb\n",
      "aku merasakan cinta yang ada pada dirimu\n",
      "dunia terhebat cinta padaku\n",
      "bahkan ku tahu kau bingung gonta-ganti melulu\n",
      "dan takkan ragu tuk tetap miliki aku\n",
      "acdc aha ehe antara cinta dan curiga\n",
      "mari marilah kita, mari marilah kita\n",
      "putuskan cinta saja\n",
      "mari marilah kita, mari marilah kita\n",
      "daripada makan hati\n",
      "bukan uang bukan harta, bukan emas dan pertama\n",
      "hanyalah cinta yang ku pinta\n",
      "daripada bersandiwara pura-pura kau setia\n",
      "ternyata kau wanita serbaguna\n",
      "astaga masa iya tak percaya\n",
      "repeat reff\n",
      "nananana nanana nanananana\n",
      "nananana nanana nanananana\n",
      "e aha ehe acdc aha ehe\n",
      "e aha ehe acdc aha ehe\n",
      "aku ganteng dia cuek, aku keren dia cuek\n",
      "aku beken dia cuek, aku cinta dia cuek\n",
      "aku miss call dia cuek, aku mention dia cuek\n",
      "aku komen dia cuek, aku cinta dia cuek\n",
      "aku galau dia cuek, aku stress dia cuek\n",
      "aku gila dia cuek, oh aku cinta dia cuek\n",
      "dia cuek, dia cuek, dia cuek\n",
      "aku ganteng dia cuek dia cuek\n",
      "aku keren dia cuek dia cuek\n",
      "aku beken dia cuek, aku cinta dia cuek\n",
      "aku miss call dia cuek dia cuek\n",
      "aku mention dia cuek dia cuek\n",
      "aku komen dia cuek, oh aku cinta dia cuek\n",
      "aku galau dia cuek, aku stress dia cuek\n",
      "aku gila dia cuek, aku cinta dia cuek\n",
      "dia cuek dia cuek dia cuek dia cuek\n",
      "dia cuek dia cuek, aku cinta dia cuek\n",
      "dimana akan kucari\n",
      "aku menangis seorang diri\n",
      "hatiku selalu ingin bertemu\n",
      "untukmu aku bernyanyi\n",
      "untuk aceh tercinta\n",
      "ak\n"
     ]
    }
   ],
   "source": [
    "\n",
    "pattern = r\"[a-zA-Z\\s,\\-]+\"\n",
    "\n",
    "matches = re.findall(pattern, corpus)\n",
    "\n",
    "corpus = ''.join(matches)\n",
    "\n",
    "print(corpus[60000:62000])"
   ]
  },
  {
   "cell_type": "code",
   "execution_count": 23,
   "id": "8e7e25ba",
   "metadata": {
    "tags": []
   },
   "outputs": [
    {
     "name": "stdout",
     "output_type": "stream",
     "text": [
      "{'v', 'r', ' ', 'b', '-', 'j', 'f', '\\t', 't', 's', 'y', 'a', ',', '\\xa0', 'i', 'n', 'g', 'x', 'h', 'u', 'p', '\\n', 'd', 'c', 'm', 'e', 'k', 'w', 'z', 'o', 'l', 'q', '\\u2028'}\n"
     ]
    }
   ],
   "source": [
    "print(set(corpus))"
   ]
  },
  {
   "cell_type": "code",
   "execution_count": 24,
   "id": "2a6fdef6",
   "metadata": {
    "tags": []
   },
   "outputs": [
    {
     "name": "stdout",
     "output_type": "stream",
     "text": [
      "33\n"
     ]
    }
   ],
   "source": [
    "vocab = sorted(set(corpus))\n",
    "print(len(vocab))"
   ]
  },
  {
   "cell_type": "code",
   "execution_count": 25,
   "id": "221b4cf4",
   "metadata": {
    "tags": []
   },
   "outputs": [
    {
     "name": "stderr",
     "output_type": "stream",
     "text": [
      "2024-10-31 14:10:43.772886: I external/local_xla/xla/stream_executor/cuda/cuda_executor.cc:901] successful NUMA node read from SysFS had negative value (-1), but there must be at least one NUMA node, so returning NUMA node zero. See more at https://github.com/torvalds/linux/blob/v6.0/Documentation/ABI/testing/sysfs-bus-pci#L344-L355\n",
      "2024-10-31 14:10:44.126005: I external/local_xla/xla/stream_executor/cuda/cuda_executor.cc:901] successful NUMA node read from SysFS had negative value (-1), but there must be at least one NUMA node, so returning NUMA node zero. See more at https://github.com/torvalds/linux/blob/v6.0/Documentation/ABI/testing/sysfs-bus-pci#L344-L355\n",
      "2024-10-31 14:10:44.126262: I external/local_xla/xla/stream_executor/cuda/cuda_executor.cc:901] successful NUMA node read from SysFS had negative value (-1), but there must be at least one NUMA node, so returning NUMA node zero. See more at https://github.com/torvalds/linux/blob/v6.0/Documentation/ABI/testing/sysfs-bus-pci#L344-L355\n",
      "2024-10-31 14:10:44.127915: I external/local_xla/xla/stream_executor/cuda/cuda_executor.cc:901] successful NUMA node read from SysFS had negative value (-1), but there must be at least one NUMA node, so returning NUMA node zero. See more at https://github.com/torvalds/linux/blob/v6.0/Documentation/ABI/testing/sysfs-bus-pci#L344-L355\n",
      "2024-10-31 14:10:44.128102: I external/local_xla/xla/stream_executor/cuda/cuda_executor.cc:901] successful NUMA node read from SysFS had negative value (-1), but there must be at least one NUMA node, so returning NUMA node zero. See more at https://github.com/torvalds/linux/blob/v6.0/Documentation/ABI/testing/sysfs-bus-pci#L344-L355\n",
      "2024-10-31 14:10:44.128264: I external/local_xla/xla/stream_executor/cuda/cuda_executor.cc:901] successful NUMA node read from SysFS had negative value (-1), but there must be at least one NUMA node, so returning NUMA node zero. See more at https://github.com/torvalds/linux/blob/v6.0/Documentation/ABI/testing/sysfs-bus-pci#L344-L355\n",
      "2024-10-31 14:10:46.550793: I external/local_xla/xla/stream_executor/cuda/cuda_executor.cc:901] successful NUMA node read from SysFS had negative value (-1), but there must be at least one NUMA node, so returning NUMA node zero. See more at https://github.com/torvalds/linux/blob/v6.0/Documentation/ABI/testing/sysfs-bus-pci#L344-L355\n",
      "2024-10-31 14:10:46.551024: I external/local_xla/xla/stream_executor/cuda/cuda_executor.cc:901] successful NUMA node read from SysFS had negative value (-1), but there must be at least one NUMA node, so returning NUMA node zero. See more at https://github.com/torvalds/linux/blob/v6.0/Documentation/ABI/testing/sysfs-bus-pci#L344-L355\n",
      "2024-10-31 14:10:46.551198: I external/local_xla/xla/stream_executor/cuda/cuda_executor.cc:901] successful NUMA node read from SysFS had negative value (-1), but there must be at least one NUMA node, so returning NUMA node zero. See more at https://github.com/torvalds/linux/blob/v6.0/Documentation/ABI/testing/sysfs-bus-pci#L344-L355\n",
      "2024-10-31 14:10:46.551313: I tensorflow/core/common_runtime/gpu/gpu_device.cc:1929] Created device /job:localhost/replica:0/task:0/device:GPU:0 with 15526 MB memory:  -> device: 0, name: Quadro P5000, pci bus id: 0000:00:05.0, compute capability: 6.1\n"
     ]
    }
   ],
   "source": [
    "text_vec_layer = tf.keras.layers.TextVectorization(\n",
    "    split=\"character\",standardize=\"lower\")"
   ]
  },
  {
   "cell_type": "code",
   "execution_count": 26,
   "id": "c164fe59",
   "metadata": {
    "tags": []
   },
   "outputs": [
    {
     "name": "stdout",
     "output_type": "stream",
     "text": [
      "10455040\n"
     ]
    }
   ],
   "source": [
    "print(len(corpus))"
   ]
  },
  {
   "cell_type": "code",
   "execution_count": 27,
   "id": "6e2ba204",
   "metadata": {
    "tags": []
   },
   "outputs": [],
   "source": [
    "text_vec_layer.adapt([corpus])"
   ]
  },
  {
   "cell_type": "code",
   "execution_count": 28,
   "id": "91edfcd7",
   "metadata": {
    "tags": []
   },
   "outputs": [
    {
     "data": {
      "text/plain": [
       "TensorShape([1, 10455040])"
      ]
     },
     "execution_count": 28,
     "metadata": {},
     "output_type": "execute_result"
    }
   ],
   "source": [
    "text_vec_layer([corpus]).shape"
   ]
  },
  {
   "cell_type": "code",
   "execution_count": 29,
   "id": "f5e32ef8",
   "metadata": {
    "tags": []
   },
   "outputs": [
    {
     "data": {
      "text/plain": [
       "<tf.Tensor: shape=(10455040,), dtype=int64, numpy=array([16,  7, 14, ..., 12,  5, 10])>"
      ]
     },
     "execution_count": 29,
     "metadata": {},
     "output_type": "execute_result"
    }
   ],
   "source": [
    "encoded = text_vec_layer([corpus])[0]\n",
    "encoded"
   ]
  },
  {
   "cell_type": "code",
   "execution_count": 30,
   "id": "fe15cb5d",
   "metadata": {
    "tags": []
   },
   "outputs": [
    {
     "data": {
      "text/plain": [
       "33"
      ]
     },
     "execution_count": 30,
     "metadata": {},
     "output_type": "execute_result"
    }
   ],
   "source": [
    "# ilangin padding & unknown char\n",
    "encoded -= 2\n",
    "n_tokens = text_vec_layer.vocabulary_size()-2 \n",
    "n_tokens"
   ]
  },
  {
   "cell_type": "code",
   "execution_count": 31,
   "id": "a5ddcb05",
   "metadata": {
    "tags": []
   },
   "outputs": [
    {
     "data": {
      "text/plain": [
       "10455040"
      ]
     },
     "execution_count": 31,
     "metadata": {},
     "output_type": "execute_result"
    }
   ],
   "source": [
    "dataset_size = len(encoded)\n",
    "dataset_size"
   ]
  },
  {
   "cell_type": "code",
   "execution_count": 32,
   "id": "dd4a188c",
   "metadata": {
    "tags": []
   },
   "outputs": [
    {
     "data": {
      "text/plain": [
       "<tf.Tensor: shape=(10455040,), dtype=int64, numpy=array([14,  5, 12, ..., 10,  3,  8])>"
      ]
     },
     "execution_count": 32,
     "metadata": {},
     "output_type": "execute_result"
    }
   ],
   "source": [
    "encoded"
   ]
  },
  {
   "cell_type": "code",
   "execution_count": 33,
   "id": "700faf53",
   "metadata": {
    "tags": []
   },
   "outputs": [],
   "source": [
    "# import tensorflow as tf\n",
    "# import tensorflow_datasets as tfds\n",
    "\n",
    "# BATCH_SIZE = 256\n",
    "# GPUS = [\"GPU:0\",\"GPU:1\"]\n",
    "\n",
    "# strategy = tf.distribute.MirroredStrategy( GPUS )\n",
    "# print('Number of devices: %d' % strategy.num_replicas_in_sync)\n",
    "\n",
    "# batch_size = BATCH_SIZE * strategy.num_replicas_in_sync"
   ]
  },
  {
   "cell_type": "code",
   "execution_count": 34,
   "id": "975621a1",
   "metadata": {
    "tags": []
   },
   "outputs": [],
   "source": [
    "def to_dataset(sequence,length,shuffle=False,seed=None,batch_size=512):\n",
    "    ds = tf.data.Dataset.from_tensor_slices(sequence)\n",
    "    ds = ds.window(length + 1, shift=1,drop_remainder=True)\n",
    "    ds = ds.flat_map(lambda window_ds: window_ds.batch(length + 1))\n",
    "    if shuffle:\n",
    "        ds = ds.shuffle(100_000, seed=seed)\n",
    "    ds = ds.batch(batch_size)\n",
    "    return ds.map(lambda window: (window[:, :-1], window[:, 1:])).prefetch(1)"
   ]
  },
  {
   "cell_type": "code",
   "execution_count": 35,
   "id": "93cf54e5",
   "metadata": {
    "tags": []
   },
   "outputs": [
    {
     "data": {
      "text/plain": [
       "[(<tf.Tensor: shape=(24, 5), dtype=int64, numpy=\n",
       "  array([[ 6,  4,  9,  6,  4],\n",
       "         [ 4,  9,  6,  4, 13],\n",
       "         [ 9,  6,  4, 13,  4],\n",
       "         [ 6,  4, 13,  4, 21],\n",
       "         [ 4, 13,  4, 21,  2],\n",
       "         [13,  4, 21,  2,  3],\n",
       "         [ 4, 21,  2,  3, 18],\n",
       "         [21,  2,  3, 18,  6],\n",
       "         [ 2,  3, 18,  6, 11],\n",
       "         [ 3, 18,  6, 11,  5],\n",
       "         [18,  6, 11,  5,  3],\n",
       "         [ 6, 11,  5,  3, 11],\n",
       "         [11,  5,  3, 11,  2],\n",
       "         [ 5,  3, 11,  2, 14],\n",
       "         [ 3, 11,  2, 14,  5],\n",
       "         [11,  2, 14,  5, 16],\n",
       "         [ 2, 14,  5, 16,  3],\n",
       "         [14,  5, 16,  3, 18],\n",
       "         [ 5, 16,  3, 18,  7],\n",
       "         [16,  3, 18,  7, 12],\n",
       "         [ 3, 18,  7, 12, 19],\n",
       "         [18,  7, 12, 19,  6],\n",
       "         [ 7, 12, 19,  6,  9],\n",
       "         [12, 19,  6,  9,  2]])>,\n",
       "  <tf.Tensor: shape=(24, 5), dtype=int64, numpy=\n",
       "  array([[ 4,  9,  6,  4, 13],\n",
       "         [ 9,  6,  4, 13,  4],\n",
       "         [ 6,  4, 13,  4, 21],\n",
       "         [ 4, 13,  4, 21,  2],\n",
       "         [13,  4, 21,  2,  3],\n",
       "         [ 4, 21,  2,  3, 18],\n",
       "         [21,  2,  3, 18,  6],\n",
       "         [ 2,  3, 18,  6, 11],\n",
       "         [ 3, 18,  6, 11,  5],\n",
       "         [18,  6, 11,  5,  3],\n",
       "         [ 6, 11,  5,  3, 11],\n",
       "         [11,  5,  3, 11,  2],\n",
       "         [ 5,  3, 11,  2, 14],\n",
       "         [ 3, 11,  2, 14,  5],\n",
       "         [11,  2, 14,  5, 16],\n",
       "         [ 2, 14,  5, 16,  3],\n",
       "         [14,  5, 16,  3, 18],\n",
       "         [ 5, 16,  3, 18,  7],\n",
       "         [16,  3, 18,  7, 12],\n",
       "         [ 3, 18,  7, 12, 19],\n",
       "         [18,  7, 12, 19,  6],\n",
       "         [ 7, 12, 19,  6,  9],\n",
       "         [12, 19,  6,  9,  2],\n",
       "         [19,  6,  9,  2, 12]])>)]"
      ]
     },
     "execution_count": 35,
     "metadata": {},
     "output_type": "execute_result"
    }
   ],
   "source": [
    "list(to_dataset(text_vec_layer([\"untungnya bumi masih berputar\"])[0], length=5))"
   ]
  },
  {
   "cell_type": "code",
   "execution_count": 36,
   "id": "88bb50a3",
   "metadata": {
    "tags": []
   },
   "outputs": [],
   "source": [
    "length = 100\n",
    "tf.random.set_seed(42)"
   ]
  },
  {
   "cell_type": "code",
   "execution_count": null,
   "id": "d98d88a0",
   "metadata": {},
   "outputs": [],
   "source": []
  },
  {
   "cell_type": "code",
   "execution_count": 37,
   "id": "9b3332e4",
   "metadata": {
    "tags": []
   },
   "outputs": [],
   "source": [
    "train_set = to_dataset(encoded[:int(len(encoded)*0.95)], length=length, shuffle=False, seed=42, batch_size=512)\n",
    "val_set = to_dataset(encoded[int(len(encoded)*0.95):], length=length, shuffle=False, seed=42,batch_size=512)\n"
   ]
  },
  {
   "cell_type": "code",
   "execution_count": 38,
   "id": "1750e3b9",
   "metadata": {
    "tags": []
   },
   "outputs": [
    {
     "name": "stdout",
     "output_type": "stream",
     "text": [
      "9932288\n",
      "522752\n"
     ]
    }
   ],
   "source": [
    "print(len(encoded[:int(len(encoded)*0.95)]))\n",
    "print(len(encoded[int(len(encoded)*0.95):]))"
   ]
  },
  {
   "cell_type": "code",
   "execution_count": null,
   "id": "8bf76215-731a-40ab-9c30-21ae499071df",
   "metadata": {},
   "outputs": [],
   "source": []
  },
  {
   "cell_type": "code",
   "execution_count": 39,
   "id": "0c58d923",
   "metadata": {
    "tags": []
   },
   "outputs": [],
   "source": [
    "# http://karpathy.github.io/2015/05/21/rnn-effectiveness/"
   ]
  },
  {
   "cell_type": "code",
   "execution_count": 40,
   "id": "bcb58b9a",
   "metadata": {
    "tags": []
   },
   "outputs": [],
   "source": [
    "model = tf.keras.Sequential([\n",
    "    tf.keras.layers.Embedding(input_dim=n_tokens, output_dim=100),\n",
    "    tf.keras.layers.LSTM(512,return_sequences=True),\n",
    "    tf.keras.layers.Dropout(0.2),\n",
    "    tf.keras.layers.LSTM(512,return_sequences=True),\n",
    "    tf.keras.layers.Dropout(0.2),\n",
    "    tf.keras.layers.Dense(n_tokens,activation=\"softmax\")\n",
    "])\n",
    "\n",
    "model.load_weights(\"./epoch15_indo_musician_ai_512_adam.weights.h5\")\n",
    "\n",
    "model.compile(loss=\"sparse_categorical_crossentropy\", \n",
    "              optimizer=\"adam\", metrics=[\"accuracy\"])"
   ]
  },
  {
   "cell_type": "code",
   "execution_count": 41,
   "id": "d081fa42",
   "metadata": {
    "tags": []
   },
   "outputs": [
    {
     "name": "stdout",
     "output_type": "stream",
     "text": [
      "Model: \"sequential\"\n",
      "_________________________________________________________________\n",
      " Layer (type)                Output Shape              Param #   \n",
      "=================================================================\n",
      " embedding (Embedding)       (None, None, 100)         3300      \n",
      "                                                                 \n",
      " lstm (LSTM)                 (None, None, 512)         1255424   \n",
      "                                                                 \n",
      " dropout (Dropout)           (None, None, 512)         0         \n",
      "                                                                 \n",
      " lstm_1 (LSTM)               (None, None, 512)         2099200   \n",
      "                                                                 \n",
      " dropout_1 (Dropout)         (None, None, 512)         0         \n",
      "                                                                 \n",
      " dense (Dense)               (None, None, 33)          16929     \n",
      "                                                                 \n",
      "=================================================================\n",
      "Total params: 3374853 (12.87 MB)\n",
      "Trainable params: 3374853 (12.87 MB)\n",
      "Non-trainable params: 0 (0.00 Byte)\n",
      "_________________________________________________________________\n"
     ]
    }
   ],
   "source": [
    "model.summary()"
   ]
  },
  {
   "cell_type": "code",
   "execution_count": 42,
   "id": "ab289665",
   "metadata": {
    "tags": []
   },
   "outputs": [],
   "source": [
    "\n",
    "model_ckpt = tf.keras.callbacks.ModelCheckpoint(\"indo_musician_ai_512.keras\", save_best_only=True, monitor=\"val_loss\")\n",
    "\n",
    "early_stopping_callback = tf.keras.callbacks.EarlyStopping(monitor=\"val_loss\", patience=10)\n"
   ]
  },
  {
   "cell_type": "code",
   "execution_count": 37,
   "id": "3a0501b8",
   "metadata": {
    "execution": {
     "iopub.execute_input": "2024-10-30T17:04:17.676125Z",
     "iopub.status.busy": "2024-10-30T17:04:17.675717Z",
     "iopub.status.idle": "2024-10-30T17:04:17.678393Z",
     "shell.execute_reply": "2024-10-30T17:04:17.677891Z",
     "shell.execute_reply.started": "2024-10-30T17:04:17.676103Z"
    },
    "tags": []
   },
   "outputs": [],
   "source": [
    "# import tensorflow as tf\n",
    "# gpus = tf.config.list_physical_devices('GPU')\n",
    "# for gpu in gpus:\n",
    "#     tf.config.experimental.set_memory_growth(gpu, True)"
   ]
  },
  {
   "cell_type": "code",
   "execution_count": 38,
   "id": "2ea0d303",
   "metadata": {
    "execution": {
     "iopub.execute_input": "2024-10-30T17:04:17.996452Z",
     "iopub.status.busy": "2024-10-30T17:04:17.996018Z",
     "iopub.status.idle": "2024-10-30T19:28:30.103743Z",
     "shell.execute_reply": "2024-10-30T19:28:30.103097Z",
     "shell.execute_reply.started": "2024-10-30T17:04:17.996432Z"
    },
    "tags": []
   },
   "outputs": [
    {
     "name": "stdout",
     "output_type": "stream",
     "text": [
      "Epoch 1/5\n"
     ]
    },
    {
     "name": "stderr",
     "output_type": "stream",
     "text": [
      "2024-10-30 17:04:23.028811: I external/local_xla/xla/stream_executor/cuda/cuda_dnn.cc:454] Loaded cuDNN version 8907\n",
      "2024-10-30 17:04:24.032502: I external/local_xla/xla/service/service.cc:168] XLA service 0x7f8ec83d4ce0 initialized for platform CUDA (this does not guarantee that XLA will be used). Devices:\n",
      "2024-10-30 17:04:24.032537: I external/local_xla/xla/service/service.cc:176]   StreamExecutor device (0): NVIDIA RTX A4000, Compute Capability 8.6\n",
      "2024-10-30 17:04:24.048766: I tensorflow/compiler/mlir/tensorflow/utils/dump_mlir_util.cc:269] disabling MLIR crash reproducer, set env var `MLIR_CRASH_REPRODUCER_DIRECTORY` to enable.\n",
      "WARNING: All log messages before absl::InitializeLog() is called are written to STDERR\n",
      "I0000 00:00:1730307864.163588     148 device_compiler.h:186] Compiled cluster using XLA!  This line is logged at most once for the lifetime of the process.\n"
     ]
    },
    {
     "name": "stdout",
     "output_type": "stream",
     "text": [
      "  19399/Unknown - 1664s 85ms/step - loss: 1.4545 - accuracy: 0.5430"
     ]
    },
    {
     "name": "stderr",
     "output_type": "stream",
     "text": [
      "2024-10-30 17:32:01.914184: I tensorflow/core/framework/local_rendezvous.cc:421] Local rendezvous recv item cancelled. Key hash: 4537463534760235045\n",
      "2024-10-30 17:32:01.914228: I tensorflow/core/framework/local_rendezvous.cc:421] Local rendezvous recv item cancelled. Key hash: 320373222070858339\n",
      "2024-10-30 17:32:01.914250: I tensorflow/core/framework/local_rendezvous.cc:421] Local rendezvous recv item cancelled. Key hash: 10472304843898787558\n"
     ]
    },
    {
     "name": "stdout",
     "output_type": "stream",
     "text": [
      "19399/19399 [==============================] - 1737s 89ms/step - loss: 1.4545 - accuracy: 0.5430 - val_loss: 1.2331 - val_accuracy: 0.6019\n",
      "Epoch 2/5\n"
     ]
    },
    {
     "name": "stderr",
     "output_type": "stream",
     "text": [
      "2024-10-30 17:33:14.523332: I tensorflow/core/framework/local_rendezvous.cc:421] Local rendezvous recv item cancelled. Key hash: 4537463534760235045\n",
      "2024-10-30 17:33:14.523383: I tensorflow/core/framework/local_rendezvous.cc:421] Local rendezvous recv item cancelled. Key hash: 320373222070858339\n",
      "2024-10-30 17:33:14.523400: I tensorflow/core/framework/local_rendezvous.cc:421] Local rendezvous recv item cancelled. Key hash: 10472304843898787558\n"
     ]
    },
    {
     "name": "stdout",
     "output_type": "stream",
     "text": [
      "19399/19399 [==============================] - 1711s 88ms/step - loss: 1.2928 - accuracy: 0.5874 - val_loss: 1.1945 - val_accuracy: 0.6124\n",
      "Epoch 3/5\n",
      "19399/19399 [==============================] - 1703s 88ms/step - loss: 1.2534 - accuracy: 0.5985 - val_loss: 1.1780 - val_accuracy: 0.6182\n",
      "Epoch 4/5\n",
      "19399/19399 [==============================] - 1696s 87ms/step - loss: 1.2318 - accuracy: 0.6047 - val_loss: 1.1685 - val_accuracy: 0.6215\n",
      "Epoch 5/5\n",
      "19399/19399 [==============================] - 1696s 87ms/step - loss: 1.2178 - accuracy: 0.6088 - val_loss: 1.1621 - val_accuracy: 0.6238\n"
     ]
    }
   ],
   "source": [
    "# # 5 epochs pertama\n",
    "# history = model.fit( train_set, validation_data=val_set, epochs=5, callbacks=[model_ckpt, early_stopping_callback], verbose=1)"
   ]
  },
  {
   "cell_type": "code",
   "execution_count": 39,
   "id": "8197d038",
   "metadata": {
    "execution": {
     "iopub.execute_input": "2024-10-30T19:30:21.201571Z",
     "iopub.status.busy": "2024-10-30T19:30:21.201017Z",
     "iopub.status.idle": "2024-10-30T19:30:21.286554Z",
     "shell.execute_reply": "2024-10-30T19:30:21.285964Z",
     "shell.execute_reply.started": "2024-10-30T19:30:21.201510Z"
    },
    "tags": []
   },
   "outputs": [],
   "source": [
    "model.save_weights(\"./epoch5_indo_musician_ai_512_adam.weights.h5\")"
   ]
  },
  {
   "cell_type": "code",
   "execution_count": 40,
   "id": "e070f899",
   "metadata": {
    "execution": {
     "iopub.execute_input": "2024-10-30T19:30:21.512657Z",
     "iopub.status.busy": "2024-10-30T19:30:21.512178Z",
     "iopub.status.idle": "2024-10-30T19:30:21.656084Z",
     "shell.execute_reply": "2024-10-30T19:30:21.655473Z",
     "shell.execute_reply.started": "2024-10-30T19:30:21.512638Z"
    },
    "tags": []
   },
   "outputs": [],
   "source": [
    "model.save(\"./epoch5_indo_musician_ai_512_adam.keras\")"
   ]
  },
  {
   "cell_type": "code",
   "execution_count": 42,
   "id": "50d377a8",
   "metadata": {
    "tags": []
   },
   "outputs": [],
   "source": [
    "music_ai_model = tf.keras.Sequential([\n",
    "    text_vec_layer,\n",
    "    tf.keras.layers.Lambda(lambda X: X - 2),\n",
    "    model\n",
    "])"
   ]
  },
  {
   "cell_type": "code",
   "execution_count": 406,
   "id": "e13aad2f",
   "metadata": {
    "tags": []
   },
   "outputs": [],
   "source": [
    "def next_char(text, temperature=1):\n",
    "    y_proba = music_ai_model.predict([text], verbose=0)[0, -1:] \n",
    "    rescaled_logits = tf.math.log(y_proba) / temperature\n",
    "    char_id = tf.random.categorical(rescaled_logits, num_samples=1)[0, 0]\n",
    "    return text_vec_layer.get_vocabulary()[char_id + 2]"
   ]
  },
  {
   "cell_type": "code",
   "execution_count": 407,
   "id": "19568b23",
   "metadata": {
    "tags": []
   },
   "outputs": [],
   "source": [
    "def generate_text(text, n_chars=50, temperature=0.5):\n",
    "    for _ in range(n_chars):\n",
    "        text += next_char(text, temperature)\n",
    "    return text"
   ]
  },
  {
   "cell_type": "code",
   "execution_count": 408,
   "id": "8602ca01",
   "metadata": {
    "tags": []
   },
   "outputs": [],
   "source": [
    "tf.random.set_seed(42)"
   ]
  },
  {
   "cell_type": "code",
   "execution_count": 409,
   "id": "fac5b7b1-31eb-467d-abfa-4432b3c66b42",
   "metadata": {
    "tags": []
   },
   "outputs": [
    {
     "name": "stdout",
     "output_type": "stream",
     "text": [
      "Belum ada satu bulan\n",
      "karena ku sangat mencintaimu\n",
      "semua ini kan selalu di hatiku\n",
      "sebagai kekasihku\n",
      "aku tak mau terluka\n",
      "dan selalu mengharapkan dirimu\n",
      "semoga kau tak perna\n"
     ]
    }
   ],
   "source": [
    "print(generate_text(\"Belum ada satu bulan\", 150, 0.3))"
   ]
  },
  {
   "cell_type": "code",
   "execution_count": 410,
   "id": "fa56c6da",
   "metadata": {
    "tags": []
   },
   "outputs": [
    {
     "name": "stdout",
     "output_type": "stream",
     "text": [
      "Lembaran foto hitam-putih \n",
      " Aku coba ingat lagi warna bajumu kala itu \n",
      " Kali pertama di hidupku\n",
      "semua yang kau mau\n",
      "kau tak pernah mengerti\n",
      "semua yang ku rasa\n",
      "sebelum kau terus berjalan\n",
      "tak ada yang mengerti\n",
      "ku tak m\n"
     ]
    }
   ],
   "source": [
    "print(generate_text(\"Lembaran foto hitam-putih \\n Aku coba ingat lagi warna bajumu kala itu \\n Kali pertama di hidupku\", 120, 0.1))"
   ]
  },
  {
   "cell_type": "code",
   "execution_count": 51,
   "id": "4e90419c",
   "metadata": {
    "execution": {
     "iopub.execute_input": "2024-10-30T19:34:18.217226Z",
     "iopub.status.busy": "2024-10-30T19:34:18.216859Z",
     "iopub.status.idle": "2024-10-30T21:55:47.932589Z",
     "shell.execute_reply": "2024-10-30T21:55:47.932143Z",
     "shell.execute_reply.started": "2024-10-30T19:34:18.217216Z"
    }
   },
   "outputs": [
    {
     "name": "stdout",
     "output_type": "stream",
     "text": [
      "Epoch 1/5\n",
      "  19399/Unknown - 1623s 84ms/step - loss: 1.2075 - accuracy: 0.6118"
     ]
    },
    {
     "name": "stderr",
     "output_type": "stream",
     "text": [
      "2024-10-30 20:01:21.372443: I tensorflow/core/framework/local_rendezvous.cc:425] Local rendezvous send item cancelled. Key hash: 13627524759204767324\n",
      "2024-10-30 20:01:21.372513: I tensorflow/core/framework/local_rendezvous.cc:425] Local rendezvous send item cancelled. Key hash: 8038956170930726548\n",
      "2024-10-30 20:01:21.372524: I tensorflow/core/framework/local_rendezvous.cc:425] Local rendezvous send item cancelled. Key hash: 1132289624588354037\n"
     ]
    },
    {
     "name": "stdout",
     "output_type": "stream",
     "text": [
      "19399/19399 [==============================] - 1696s 87ms/step - loss: 1.2075 - accuracy: 0.6118 - val_loss: 1.1566 - val_accuracy: 0.6253\n",
      "Epoch 2/5\n"
     ]
    },
    {
     "name": "stderr",
     "output_type": "stream",
     "text": [
      "2024-10-30 20:02:33.672263: I tensorflow/core/framework/local_rendezvous.cc:425] Local rendezvous send item cancelled. Key hash: 243903308769771333\n",
      "2024-10-30 20:02:33.672323: I tensorflow/core/framework/local_rendezvous.cc:421] Local rendezvous recv item cancelled. Key hash: 4537463534760235045\n",
      "2024-10-30 20:02:33.672334: I tensorflow/core/framework/local_rendezvous.cc:421] Local rendezvous recv item cancelled. Key hash: 320373222070858339\n",
      "2024-10-30 20:02:33.672338: I tensorflow/core/framework/local_rendezvous.cc:425] Local rendezvous send item cancelled. Key hash: 8683903112220405685\n",
      "2024-10-30 20:02:33.672345: I tensorflow/core/framework/local_rendezvous.cc:425] Local rendezvous send item cancelled. Key hash: 1573571965319128390\n"
     ]
    },
    {
     "name": "stdout",
     "output_type": "stream",
     "text": [
      "19399/19399 [==============================] - 1696s 87ms/step - loss: 1.1998 - accuracy: 0.6141 - val_loss: 1.1539 - val_accuracy: 0.6264\n",
      "Epoch 3/5\n",
      "19399/19399 [==============================] - 1695s 87ms/step - loss: 1.1945 - accuracy: 0.6156 - val_loss: 1.1472 - val_accuracy: 0.6290\n",
      "Epoch 4/5\n",
      "19399/19399 [==============================] - 1697s 87ms/step - loss: 1.1884 - accuracy: 0.6174 - val_loss: 1.1440 - val_accuracy: 0.6303\n",
      "Epoch 5/5\n",
      "19399/19399 [==============================] - 1706s 88ms/step - loss: 1.1830 - accuracy: 0.6188 - val_loss: 1.1413 - val_accuracy: 0.6310\n"
     ]
    }
   ],
   "source": [
    "# # 10 epochs pertama\n",
    "# history = model.fit( train_set, validation_data=val_set, epochs=5, callbacks=[model_ckpt, early_stopping_callback], verbose=1)"
   ]
  },
  {
   "cell_type": "code",
   "execution_count": 52,
   "id": "f8383a7e",
   "metadata": {
    "execution": {
     "iopub.execute_input": "2024-10-30T21:55:47.933682Z",
     "iopub.status.busy": "2024-10-30T21:55:47.933525Z",
     "iopub.status.idle": "2024-10-30T21:55:48.005047Z",
     "shell.execute_reply": "2024-10-30T21:55:48.004587Z",
     "shell.execute_reply.started": "2024-10-30T21:55:47.933668Z"
    }
   },
   "outputs": [],
   "source": [
    "model.save_weights(\"./epoch10_indo_musician_ai_512_adam.weights.h5\")"
   ]
  },
  {
   "cell_type": "code",
   "execution_count": 53,
   "id": "86e4b9b0",
   "metadata": {
    "execution": {
     "iopub.execute_input": "2024-10-30T21:55:48.006135Z",
     "iopub.status.busy": "2024-10-30T21:55:48.005986Z",
     "iopub.status.idle": "2024-10-30T21:55:48.099375Z",
     "shell.execute_reply": "2024-10-30T21:55:48.098891Z",
     "shell.execute_reply.started": "2024-10-30T21:55:48.006121Z"
    }
   },
   "outputs": [],
   "source": [
    "model.save(\"./epoch10_indo_musician_ai_512_adam.keras\")"
   ]
  },
  {
   "cell_type": "code",
   "execution_count": 411,
   "id": "b42209c0",
   "metadata": {
    "tags": []
   },
   "outputs": [
    {
     "name": "stdout",
     "output_type": "stream",
     "text": [
      "Belum ada satu bulan\n",
      "dan bila kau tak pernah tahu\n",
      "sebelum kau mengerti\n",
      "ku tak sanggup menghadapi\n",
      "kau kan menjadi milikku\n",
      "ku berjanji terus berjalan\n",
      "kau berikan semua ini\n",
      "\n"
     ]
    }
   ],
   "source": [
    "# Tes hasil Epoch 10\n",
    "print(generate_text(\"Belum ada satu bulan\", 150, 0.3))"
   ]
  },
  {
   "cell_type": "code",
   "execution_count": 50,
   "id": "08f110c9-746b-4b52-a4f7-c69a750709cd",
   "metadata": {
    "tags": []
   },
   "outputs": [
    {
     "name": "stdout",
     "output_type": "stream",
     "text": [
      "Epoch 1/5\n"
     ]
    },
    {
     "name": "stderr",
     "output_type": "stream",
     "text": [
      "2024-10-31 02:33:18.469816: I external/local_xla/xla/service/service.cc:168] XLA service 0x7ff1200a6350 initialized for platform CUDA (this does not guarantee that XLA will be used). Devices:\n",
      "2024-10-31 02:33:18.469863: I external/local_xla/xla/service/service.cc:176]   StreamExecutor device (0): NVIDIA RTX A4000, Compute Capability 8.6\n",
      "2024-10-31 02:33:18.488795: I tensorflow/compiler/mlir/tensorflow/utils/dump_mlir_util.cc:269] disabling MLIR crash reproducer, set env var `MLIR_CRASH_REPRODUCER_DIRECTORY` to enable.\n",
      "WARNING: All log messages before absl::InitializeLog() is called are written to STDERR\n",
      "I0000 00:00:1730341998.600004     182 device_compiler.h:186] Compiled cluster using XLA!  This line is logged at most once for the lifetime of the process.\n"
     ]
    },
    {
     "name": "stdout",
     "output_type": "stream",
     "text": [
      "  19399/Unknown - 1664s 86ms/step - loss: 1.1854 - accuracy: 0.6181"
     ]
    },
    {
     "name": "stderr",
     "output_type": "stream",
     "text": [
      "2024-10-31 03:00:59.634974: I tensorflow/core/framework/local_rendezvous.cc:425] Local rendezvous send item cancelled. Key hash: 5249284444858479300\n",
      "2024-10-31 03:00:59.635038: I tensorflow/core/framework/local_rendezvous.cc:425] Local rendezvous send item cancelled. Key hash: 12519038002202558875\n",
      "2024-10-31 03:00:59.635043: I tensorflow/core/framework/local_rendezvous.cc:425] Local rendezvous send item cancelled. Key hash: 2865204617904340173\n"
     ]
    },
    {
     "name": "stdout",
     "output_type": "stream",
     "text": [
      "19399/19399 [==============================] - 1733s 89ms/step - loss: 1.1854 - accuracy: 0.6181 - val_loss: 1.1399 - val_accuracy: 0.6315\n",
      "Epoch 2/5\n"
     ]
    },
    {
     "name": "stderr",
     "output_type": "stream",
     "text": [
      "2024-10-31 03:02:08.882381: I tensorflow/core/framework/local_rendezvous.cc:425] Local rendezvous send item cancelled. Key hash: 10181331970456167875\n",
      "2024-10-31 03:02:08.882422: I tensorflow/core/framework/local_rendezvous.cc:421] Local rendezvous recv item cancelled. Key hash: 1951060737953042870\n",
      "2024-10-31 03:02:08.882424: I tensorflow/core/framework/local_rendezvous.cc:425] Local rendezvous send item cancelled. Key hash: 15721090756605551618\n",
      "2024-10-31 03:02:08.882438: I tensorflow/core/framework/local_rendezvous.cc:421] Local rendezvous recv item cancelled. Key hash: 11205320907649558196\n"
     ]
    },
    {
     "name": "stdout",
     "output_type": "stream",
     "text": [
      "19399/19399 [==============================] - 1734s 89ms/step - loss: 1.1849 - accuracy: 0.6183 - val_loss: 1.1418 - val_accuracy: 0.6311\n",
      "Epoch 3/5\n",
      "19399/19399 [==============================] - 1736s 89ms/step - loss: 1.1864 - accuracy: 0.6177 - val_loss: 1.1412 - val_accuracy: 0.6309\n",
      "Epoch 4/5\n",
      "19399/19399 [==============================] - 1732s 89ms/step - loss: 1.1905 - accuracy: 0.6164 - val_loss: 1.1500 - val_accuracy: 0.6283\n",
      "Epoch 5/5\n",
      "19399/19399 [==============================] - 1749s 90ms/step - loss: 1.1973 - accuracy: 0.6144 - val_loss: 1.1460 - val_accuracy: 0.6296\n"
     ]
    }
   ],
   "source": [
    "# 15 epoch pertama\n",
    "# history = model.fit( train_set, validation_data=val_set, epochs=5, callbacks=[model_ckpt, early_stopping_callback], verbose=1)"
   ]
  },
  {
   "cell_type": "code",
   "execution_count": 51,
   "id": "2771b518-d0c6-48df-848b-a1aa580d119e",
   "metadata": {
    "tags": []
   },
   "outputs": [],
   "source": [
    "model.save_weights(\"./epoch15_indo_musician_ai_512_adam.weights.h5\")"
   ]
  },
  {
   "cell_type": "code",
   "execution_count": 52,
   "id": "dbce1606-ae57-4247-af02-68145015919d",
   "metadata": {
    "tags": []
   },
   "outputs": [],
   "source": [
    "model.save(\"./epoch15_indo_musician_ai_512_adam.keras\")"
   ]
  },
  {
   "cell_type": "code",
   "execution_count": 68,
   "id": "320d3d84-e661-40bb-bd67-de4f59807b79",
   "metadata": {
    "tags": []
   },
   "outputs": [],
   "source": [
    "music_ai_model = tf.keras.Sequential([\n",
    "    text_vec_layer,\n",
    "    tf.keras.layers.Lambda(lambda X: X - 2),\n",
    "    model\n",
    "])"
   ]
  },
  {
   "cell_type": "code",
   "execution_count": 69,
   "id": "c9596705-f1af-4a7e-96bd-94fe54ae2dcb",
   "metadata": {
    "tags": []
   },
   "outputs": [],
   "source": [
    "def temperature_sample(text, temperature=1):\n",
    "    \n",
    "    y_proba = music_ai_model.predict([text], verbose=0)[0, -1:]\n",
    "    y_proba = tf.squeeze(y_proba)\n",
    "    \n",
    "    preds = np.asarray(y_proba).astype(\"float64\")\n",
    "    preds = np.log(preds) / temperature\n",
    "    exp_preds = np.exp(preds)\n",
    "    preds = exp_preds / np.sum(exp_preds)\n",
    "    probas = np.random.multinomial(1, preds, 1)\n",
    "    char_id =  np.argmax(probas)\n",
    "    return text_vec_layer.get_vocabulary()[char_id + 2]\n"
   ]
  },
  {
   "cell_type": "code",
   "execution_count": 70,
   "id": "9e33d8ef-5f71-4cbb-abe4-7291f4ad5d59",
   "metadata": {
    "tags": []
   },
   "outputs": [],
   "source": [
    "def generate_text(text, n_chars=50, temperature=0.5):\n",
    "    for _ in range(n_chars):\n",
    "        text += temperature_sample(text, temperature)\n",
    "    return text"
   ]
  },
  {
   "cell_type": "code",
   "execution_count": null,
   "id": "00cb09ee-2fb5-42b9-b352-79989cde6740",
   "metadata": {
    "tags": []
   },
   "outputs": [],
   "source": []
  },
  {
   "cell_type": "code",
   "execution_count": null,
   "id": "b2c1f2e0-f2fd-47c5-8afc-973090007814",
   "metadata": {
    "tags": []
   },
   "outputs": [],
   "source": []
  },
  {
   "cell_type": "code",
   "execution_count": 162,
   "id": "0d4e35f3-c415-439d-9775-3b61e726caaa",
   "metadata": {
    "tags": []
   },
   "outputs": [],
   "source": [
    "def text_from_ids(idx):\n",
    "    text = \"\"\n",
    "    for idd in idx:\n",
    "        text += text_vec_layer.get_vocabulary()[idd+2]\n",
    "    return text"
   ]
  },
  {
   "cell_type": "code",
   "execution_count": 267,
   "id": "b79805c5-8122-43d7-bd05-0a56130630a8",
   "metadata": {
    "tags": []
   },
   "outputs": [],
   "source": [
    "def next_char_preds(preds, temperature=1):\n",
    "    # (1,100, 33)\n",
    "    # y_proba = music_ai_model.predict([text])[0, -1:] # batch 1, seq paling kanan\n",
    "    text = \"\"\n",
    "    next_pred_seqs =  preds[0]\n",
    "    char_ids = []\n",
    "    print(\"next predss: \", next_pred_seqs)\n",
    "    for y_proba in next_pred_seqs[0:]:\n",
    "        y_proba = tf.expand_dims(y_proba, 0)\n",
    "        rescaled_logits = tf.math.log(y_proba) / temperature\n",
    "        char_id = tf.random.categorical(rescaled_logits, num_samples=1)[0, 0]\n",
    "        char_ids.append(char_id.numpy())\n",
    "        text += text_vec_layer.get_vocabulary()[char_id + 2]\n",
    "    return text, char_ids"
   ]
  },
  {
   "cell_type": "code",
   "execution_count": 270,
   "id": "34252960-55b4-4be8-8108-b9e61bcd610a",
   "metadata": {
    "tags": []
   },
   "outputs": [
    {
     "name": "stdout",
     "output_type": "stream",
     "text": [
      "Input:  [14  5 12  1  9 19  1  5 26  5 10 19  7 14  3  2 11  1 14  5 12  1  9 19\n",
      "  1  5 26  5 10 19  2  3 11 14  7  8 24 10 18  9  1  7 14  5  1 12 18 10\n",
      " 10 18 22 12  1 18 24  1  9 19  1 16 10 18  6  5  2 14  5  0 10  7  8  3\n",
      "  1 22  3 12 14  1  7 14  0  7  1  3  1 21 18  4 13 15  1 12  7  0 19  1\n",
      "  7 18  2  3]\n",
      "\n",
      " input shape:  (100,)\n",
      "\n",
      " pred:  tf.Tensor(\n",
      "[[[2.82892793e-01 3.52805644e-01 3.69381136e-03 ... 1.04884784e-07\n",
      "   9.49292023e-09 7.60200625e-10]\n",
      "  [2.01149359e-02 4.30350989e-01 1.07595645e-01 ... 8.63848891e-06\n",
      "   2.38917641e-09 2.86645974e-09]\n",
      "  [2.75160186e-02 6.42366171e-01 2.51106569e-03 ... 2.83971175e-08\n",
      "   1.04330836e-10 6.73338260e-11]\n",
      "  ...\n",
      "  [3.61628918e-04 8.45099330e-01 2.08831131e-02 ... 1.39661538e-09\n",
      "   3.90693033e-12 6.44060055e-13]\n",
      "  [2.02165160e-04 1.98808662e-03 7.10360473e-05 ... 3.76428923e-11\n",
      "   3.36989247e-12 5.97547931e-14]\n",
      "  [1.59232091e-04 1.93379194e-04 2.68841948e-04 ... 2.80662888e-08\n",
      "   7.37676018e-08 6.08405470e-12]]], shape=(1, 100, 33), dtype=float32)\n",
      "\n",
      " pred shape:  (1, 100, 33) # (batch_size, sequence_length, vocab_size)\n",
      "next predss:  tf.Tensor(\n",
      "[[2.82892793e-01 3.52805644e-01 3.69381136e-03 ... 1.04884784e-07\n",
      "  9.49292023e-09 7.60200625e-10]\n",
      " [2.01149359e-02 4.30350989e-01 1.07595645e-01 ... 8.63848891e-06\n",
      "  2.38917641e-09 2.86645974e-09]\n",
      " [2.75160186e-02 6.42366171e-01 2.51106569e-03 ... 2.83971175e-08\n",
      "  1.04330836e-10 6.73338260e-11]\n",
      " ...\n",
      " [3.61628918e-04 8.45099330e-01 2.08831131e-02 ... 1.39661538e-09\n",
      "  3.90693033e-12 6.44060055e-13]\n",
      " [2.02165160e-04 1.98808662e-03 7.10360473e-05 ... 3.76428923e-11\n",
      "  3.36989247e-12 5.97547931e-14]\n",
      " [1.59232091e-04 1.93379194e-04 2.68841948e-04 ... 2.80662888e-08\n",
      "  7.37676018e-08 6.08405470e-12]], shape=(100, 33), dtype=float32)\n",
      "\n",
      "  pred text:   tiy mvery iing sep by lren deght\n",
      "srom yhe skurows\n",
      "mu my footen ysr\n",
      "\n",
      "ansosh rhen sttaund seaysch ig\n",
      "\n",
      " char_ids preds:  [1, 1, 7, 3, 19, 1, 9, 26, 5, 10, 19, 1, 3, 3, 2, 11, 1, 12, 5, 17, 1, 16, 19, 1, 13, 10, 5, 2, 1, 15, 5, 11, 14, 7, 8, 12, 10, 18, 9, 1, 19, 14, 5, 1, 12, 6, 4, 10, 18, 22, 12, 8, 9, 4, 1, 9, 19, 1, 24, 18, 18, 7, 5, 2, 1, 19, 12, 10, 8, 8, 0, 2, 12, 18, 12, 14, 1, 10, 14, 5, 2, 1, 12, 7, 7, 0, 4, 2, 15, 1, 12, 5, 0, 19, 12, 21, 14, 1, 3, 11]\n",
      "\n",
      " target:  [ 5 12  1  9 19  1  5 26  5 10 19  7 14  3  2 11  1 14  5 12  1  9 19  1\n",
      "  5 26  5 10 19  2  3 11 14  7  8 24 10 18  9  1  7 14  5  1 12 18 10 10\n",
      " 18 22 12  1 18 24  1  9 19  1 16 10 18  6  5  2 14  5  0 10  7  8  3  1\n",
      " 22  3 12 14  1  7 14  0  7  1  3  1 21 18  4 13 15  1 12  7  0 19  1  7\n",
      " 18  2  3 11]\n",
      "\n",
      " target shape:  (100,)\n",
      "\n",
      "Input:\n",
      " hes my everything hes my everynight\n",
      "from the sorrows of my brokenheart\n",
      "i wish that i could stay toni\n",
      "\n",
      "  target in text:  es my everything hes my everynight\n",
      "from the sorrows of my brokenheart\n",
      "i wish that i could stay tonig\n"
     ]
    }
   ],
   "source": [
    "for input_example_batch, target_example_batch in train_set.take(1):\n",
    "    # print(\"tes: \", input_example_batch)\n",
    "    print(\"Input: \", input_example_batch[0].numpy()) # Lets use only the first sequence on the batch\n",
    "    print(\"\\n input shape: \", input_example_batch[0].numpy().shape)\n",
    "    example_batch_predictions = model(tf.constant([input_example_batch[0].numpy()]))\n",
    "    print(\"\\n pred: \", example_batch_predictions)\n",
    "    print(\"\\n pred shape: \",example_batch_predictions.shape, \"# (batch_size, sequence_length, vocab_size)\")\n",
    "    text, next_char_ids = next_char_preds(example_batch_predictions)\n",
    "    print(\"\\n  pred text:\", text)\n",
    "    print(\"\\n char_ids preds: \", next_char_ids)\n",
    "    print(\"\\n target: \", target_example_batch.numpy()[0])\n",
    "    print(\"\\n target shape: \", target_example_batch.numpy()[0].shape)\n",
    "    print(\"\\nInput:\\n\", text_from_ids(input_example_batch[0]))\n",
    "    print(\"\\n  target in text: \" , text_from_ids(target_example_batch.numpy()[0])) # many to many sequence (100 seq)\n",
    "\n",
    "    "
   ]
  },
  {
   "cell_type": "code",
   "execution_count": 120,
   "id": "09bbcc7b-26f3-44f7-be1b-639b36480de9",
   "metadata": {
    "tags": []
   },
   "outputs": [],
   "source": [
    "def save_plot_loss(H, path):\n",
    "    print(\"min val_loss: \", min(H.history[\"val_loss\"]))\n",
    "    plt.style.use(\"ggplot\")\n",
    "    plt.figure()\n",
    "    plt.plot(H.history[\"loss\"], label=\"train_loss\")\n",
    "    plt.plot(H.history[\"val_loss\"], label=\"val_loss\")\n",
    "\n",
    "    plt.title(\"Training Loss \")\n",
    "    plt.xlabel(\"Epoch #\")\n",
    "    plt.ylabel(\"Loss\")\n",
    "    plt.legend()\n",
    "    plt.savefig(path)\n",
    "\n",
    "    \n",
    "def save_plot_acc(H, path):\n",
    "    print(\"max val_accuracy: \" , max(H.history[\"val_accuracy\"]))\n",
    "    plt.style.use(\"ggplot\")\n",
    "    plt.figure()\n",
    "    plt.plot(H.history[\"accuracy\"], label=\"train_acc\")\n",
    "    plt.plot(H.history[\"val_accuracy\"], label=\"val_acc\")\n",
    "    plt.title(\" Accuracy\")\n",
    "    plt.xlabel(\"Epoch #\")\n",
    "    plt.ylabel(\"Accuracy\")\n",
    "    plt.legend()\n",
    "    plt.savefig(path)"
   ]
  },
  {
   "cell_type": "code",
   "execution_count": null,
   "id": "82615d62-f4bb-4246-8ee9-9ba8937c1eb0",
   "metadata": {},
   "outputs": [],
   "source": []
  },
  {
   "cell_type": "markdown",
   "id": "366506ed-dad4-4c25-92c8-64047c19f08f",
   "metadata": {
    "tags": []
   },
   "source": [
    "## eval\n",
    "The perplexity is a metric that measures how well a probability model predicts a sample and it is commonly used to evaluate language models. It is defined as: \n",
    "\n",
    "\n",
    "$$ = -\\frac{1}{N}{{\\sum_{i=1}^{N}{\\log P(w_i| w_1,...,w_{i-1})}}} $$\n",
    "\n",
    "<br>\n",
    "pakai df.loc[15000:]  <br>\n",
    "todo scrape: <br>\n",
    "- https://lirik.kapanlagi.com/artis/bernadya\n"
   ]
  },
  {
   "cell_type": "code",
   "execution_count": 82,
   "id": "05f28be6-2a3b-4de4-ab0a-215e8a89c9a8",
   "metadata": {
    "tags": []
   },
   "outputs": [],
   "source": [
    "def perplexity(y_true, y_pred):\n",
    "    # https://classic.d2l.ai/chapter_recurrent-neural-networks/rnn.html\n",
    "    sparse_cross_entropy_loss = tf.keras.losses.sparse_categorical_crossentropy(y_true, y_pred)\n",
    "    \n",
    "    perplexity_value = tf.exp(tf.reduce_mean(sparse_cross_entropy_loss))\n",
    "    \n",
    "    return perplexity_value\n"
   ]
  },
  {
   "cell_type": "code",
   "execution_count": 83,
   "id": "a074ab84-4566-447c-98c9-2e01610951cd",
   "metadata": {
    "tags": []
   },
   "outputs": [],
   "source": [
    "def perplexity_loss(sparse_cross_entropy_loss):\n",
    "    # https://classic.d2l.ai/chapter_recurrent-neural-networks/rnn.html\n",
    "    perplexity_value = tf.exp(sparse_cross_entropy_loss)\n",
    "    \n",
    "    return perplexity_value\n"
   ]
  },
  {
   "cell_type": "code",
   "execution_count": 84,
   "id": "d806411a-d024-4fcf-a7f1-fabe712a623b",
   "metadata": {
    "tags": []
   },
   "outputs": [],
   "source": [
    "def perplexity_cara_2(y_true,  y_pred):\n",
    "    target_one_hot =  tf.one_hot(y_true, y_pred.shape[-1])\n",
    "    log_p = np.sum(tf.math.log(y_pred) * target_one_hot, axis = -1)\n",
    "    log_ppx = np.exp(-np.mean(log_p))\n",
    "    return log_ppx"
   ]
  },
  {
   "cell_type": "code",
   "execution_count": 457,
   "id": "0b288a35-f75e-44bb-8d32-a31be88c734e",
   "metadata": {
    "tags": []
   },
   "outputs": [
    {
     "name": "stdout",
     "output_type": "stream",
     "text": [
      "\u001b[33mWARNING: Ignoring invalid distribution ~ensorflow (/usr/local/lib/python3.11/dist-packages)\u001b[0m\u001b[33m\n",
      "\u001b[0m\u001b[33mWARNING: Ignoring invalid distribution ~ensorflow (/usr/local/lib/python3.11/dist-packages)\u001b[0m\u001b[33m\n",
      "\u001b[0mRequirement already satisfied: lxml in /usr/lib/python3/dist-packages (4.8.0)\n",
      "\u001b[33mWARNING: Ignoring invalid distribution ~ensorflow (/usr/local/lib/python3.11/dist-packages)\u001b[0m\u001b[33m\n",
      "\u001b[0m\u001b[33mWARNING: Running pip as the 'root' user can result in broken permissions and conflicting behaviour with the system package manager. It is recommended to use a virtual environment instead: https://pip.pypa.io/warnings/venv\u001b[0m\u001b[33m\n",
      "\u001b[0m"
     ]
    }
   ],
   "source": [
    "!pip install lxml"
   ]
  },
  {
   "cell_type": "code",
   "execution_count": 48,
   "id": "24583e39-6765-4491-a8a5-89a6dd837e6a",
   "metadata": {
    "tags": []
   },
   "outputs": [
    {
     "name": "stdout",
     "output_type": "stream",
     "text": [
      "title: ambang-pintu\n",
      "title: apa-mungkin\n",
      "title: berlari\n",
      "title: kata-mereka-ini-berlebihan\n",
      "title: kini-mereka-tahu\n",
      "title: kita-kubur-sampai-mati\n",
      "title: lama-lama\n",
      "title: masa-sepi\n",
      "title: satu-bulan\n",
      "title: sialnya-hidup-harus-tetap-berjalan\n",
      "title: sinyal-sinyal\n",
      "title: terlintas\n",
      "title: untungnya-hidup-harus-tetap-berjalan\n"
     ]
    }
   ],
   "source": [
    "import time\n",
    "def get_html(link):\n",
    "  \n",
    "    res = requests.get(link, headers={\"User-Agent\" : \"Mozilla/5.0 (X11; Linux x86_64) AppleWebKit/537.36 (KHTML, like Gecko) Chrome/51.0.2704.103 Safari/537.36\"}).content\n",
    "    return BeautifulSoup(res, 'html.parser')\n",
    "\n",
    "def get_songs():\n",
    "    songs_id = []\n",
    "    i = 1\n",
    "    link = f'https://lirik.kapanlagi.com/artis/bernadya' \n",
    "\n",
    "    if str(requests.head(link).status_code) == '200':\n",
    "        \n",
    "        soup = get_html(link)\n",
    "\n",
    "        link_elements = soup.find_all(\"a\", class_=\"lia\")\n",
    "\n",
    "        links = []\n",
    "        song_lyrics = []\n",
    "\n",
    "        for link in link_elements:\n",
    "            href = link.get('href')\n",
    "            if href and \"bernadya\" in href:\n",
    "                links.append(href)\n",
    "\n",
    "        for link in links:\n",
    "            response_lirik = requests.get(link)\n",
    "            response_lirik.raise_for_status()  # Check if request was successful\n",
    "\n",
    "            soup_lirik = BeautifulSoup(response_lirik.text, 'html.parser')\n",
    "            lyrics_elements = soup_lirik.find_all(\"span\", class_=\"lirik_line\")\n",
    "\n",
    "            lyrics = \"\"\n",
    "\n",
    "            for line in lyrics_elements:\n",
    "                lyrics += line.get_text() + \"\\n\"\n",
    "            title = link.split(\"/\")[5]\n",
    "            print(f\"title: {title}\")\n",
    "            \n",
    "            song_lyrics.append({\n",
    "                'link': link,\n",
    "                'artist': \"bernadya\",\n",
    "                \"title\": title,\n",
    "                \"lyrics\": lyrics,\n",
    "            })\n",
    "            \n",
    "        \n",
    "    \n",
    "    return song_lyrics\n",
    "\n",
    "\n",
    "song_lyrics = get_songs()\n"
   ]
  },
  {
   "cell_type": "code",
   "execution_count": 49,
   "id": "aebd481c-516b-4816-a5a1-c690e779b8d9",
   "metadata": {
    "tags": []
   },
   "outputs": [
    {
     "name": "stdout",
     "output_type": "stream",
     "text": [
      "{'link': 'https://lirik.kapanlagi.com/artis/bernadya/untungnya-hidup-harus-tetap-berjalan/', 'artist': 'bernadya', 'title': 'untungnya-hidup-harus-tetap-berjalan', 'lyrics': 'Persis setahun yang lalu\\nKu dijauhkan dari yang tak ditakdirkan untukku\\nYang kuingat saat itu\\nYang kulakukan hanya menggerutu angkuh\\nLebih percaya cara-caraku\\nPilih ragukan rencana Sang Maha Penentu\\nUntungnya, bumi masih berputar\\nUntungnya, ku tak pilih menyerah\\nUntungnya, ku bisa rasa\\nHal-hal baik yang datangnya belakangan\\nAda waktu-waktu\\nHal buruk datang berturut-turut\\nSemua yang tinggal, juga yang hilang\\nSeberapa pun absurdnya pasti ada makna\\nUntungnya, bumi masih berputar\\nUntungnya, ku tak pilih menyerah\\nItu memang paling mudah\\nUntungnya, kupilih yang lebih susah\\nUntungnya, kupakai akal sehat\\nUntungnya, hidup terus berjalan\\nUntungnya, ku bisa rasa\\nHal-hal baik yang datangnya belakangan\\nUntungnya, untungnya\\nHidup harus tetap berjalan\\n'}\n",
      "Persis setahun yang lalu\n",
      "Ku dijauhkan dari yang tak ditakdirkan untukku\n",
      "Yang kuingat saat itu\n",
      "Yang kulakukan hanya menggerutu angkuh\n",
      "Lebih percaya cara-caraku\n",
      "Pilih ragukan rencana Sang Maha Penentu\n",
      "Untungnya, bumi masih berputar\n",
      "Untungnya, ku tak pilih menyerah\n",
      "Untungnya, ku bisa rasa\n",
      "Hal-hal baik yang datangnya belakangan\n",
      "Ada waktu-waktu\n",
      "Hal buruk datang berturut-turut\n",
      "Semua yang tinggal, juga yang hilang\n",
      "Seberapa pun absurdnya pasti ada makna\n",
      "Untungnya, bumi masih berputar\n",
      "Untungnya, ku tak pilih menyerah\n",
      "Itu memang paling mudah\n",
      "Untungnya, kupilih yang lebih susah\n",
      "Untungnya, kupakai akal sehat\n",
      "Untungnya, hidup terus berjalan\n",
      "Untungnya, ku bisa rasa\n",
      "Hal-hal baik yang datangnya belakangan\n",
      "Untungnya, untungnya\n",
      "Hidup harus tetap berjalan\n",
      "\n"
     ]
    }
   ],
   "source": [
    "print(song_lyrics[-1])\n",
    "print(song_lyrics[-1][\"lyrics\"])"
   ]
  },
  {
   "cell_type": "code",
   "execution_count": 51,
   "id": "73821e2d-8d7a-40e3-bfb6-942d0289d074",
   "metadata": {
    "tags": []
   },
   "outputs": [
    {
     "data": {
      "text/html": [
       "<div>\n",
       "<style scoped>\n",
       "    .dataframe tbody tr th:only-of-type {\n",
       "        vertical-align: middle;\n",
       "    }\n",
       "\n",
       "    .dataframe tbody tr th {\n",
       "        vertical-align: top;\n",
       "    }\n",
       "\n",
       "    .dataframe thead th {\n",
       "        text-align: right;\n",
       "    }\n",
       "</style>\n",
       "<table border=\"1\" class=\"dataframe\">\n",
       "  <thead>\n",
       "    <tr style=\"text-align: right;\">\n",
       "      <th></th>\n",
       "      <th>link</th>\n",
       "      <th>artist</th>\n",
       "      <th>title</th>\n",
       "      <th>lyrics</th>\n",
       "    </tr>\n",
       "  </thead>\n",
       "  <tbody>\n",
       "    <tr>\n",
       "      <th>0</th>\n",
       "      <td>https://lirik.kapanlagi.com/artis/bernadya/amb...</td>\n",
       "      <td>bernadya</td>\n",
       "      <td>ambang-pintu</td>\n",
       "      <td>[Verse 1]\\nPerpisahan yang cukup dingin di awa...</td>\n",
       "    </tr>\n",
       "    <tr>\n",
       "      <th>1</th>\n",
       "      <td>https://lirik.kapanlagi.com/artis/bernadya/apa...</td>\n",
       "      <td>bernadya</td>\n",
       "      <td>apa-mungkin</td>\n",
       "      <td>Arungi malam\\nTerjaga kala semua tlah terbenam...</td>\n",
       "    </tr>\n",
       "    <tr>\n",
       "      <th>2</th>\n",
       "      <td>https://lirik.kapanlagi.com/artis/bernadya/ber...</td>\n",
       "      <td>bernadya</td>\n",
       "      <td>berlari</td>\n",
       "      <td>Seperti yang telah kuduga\\nTujuh hari menghila...</td>\n",
       "    </tr>\n",
       "    <tr>\n",
       "      <th>3</th>\n",
       "      <td>https://lirik.kapanlagi.com/artis/bernadya/kat...</td>\n",
       "      <td>bernadya</td>\n",
       "      <td>kata-mereka-ini-berlebihan</td>\n",
       "      <td>Ku tak pernah ikat rambutku lagi semenjak kaub...</td>\n",
       "    </tr>\n",
       "    <tr>\n",
       "      <th>4</th>\n",
       "      <td>https://lirik.kapanlagi.com/artis/bernadya/kin...</td>\n",
       "      <td>bernadya</td>\n",
       "      <td>kini-mereka-tahu</td>\n",
       "      <td>Dari dulu kulebih-lebihkan semua\\nPadahal yang...</td>\n",
       "    </tr>\n",
       "    <tr>\n",
       "      <th>5</th>\n",
       "      <td>https://lirik.kapanlagi.com/artis/bernadya/kit...</td>\n",
       "      <td>bernadya</td>\n",
       "      <td>kita-kubur-sampai-mati</td>\n",
       "      <td>[Verse 1]\\nHening, sepanjang perjalanan pulang...</td>\n",
       "    </tr>\n",
       "    <tr>\n",
       "      <th>6</th>\n",
       "      <td>https://lirik.kapanlagi.com/artis/bernadya/lam...</td>\n",
       "      <td>bernadya</td>\n",
       "      <td>lama-lama</td>\n",
       "      <td>Berusaha tetap terjaga\\nTunggu kamu selesaikan...</td>\n",
       "    </tr>\n",
       "    <tr>\n",
       "      <th>7</th>\n",
       "      <td>https://lirik.kapanlagi.com/artis/bernadya/mas...</td>\n",
       "      <td>bernadya</td>\n",
       "      <td>masa-sepi</td>\n",
       "      <td>[Verse 1]\\nRasa ini datang lagi\\nNamamu belum ...</td>\n",
       "    </tr>\n",
       "    <tr>\n",
       "      <th>8</th>\n",
       "      <td>https://lirik.kapanlagi.com/artis/bernadya/sat...</td>\n",
       "      <td>bernadya</td>\n",
       "      <td>satu-bulan</td>\n",
       "      <td>Belum ada satu bulan\\nKu yakin masih ada sisa ...</td>\n",
       "    </tr>\n",
       "    <tr>\n",
       "      <th>9</th>\n",
       "      <td>https://lirik.kapanlagi.com/artis/bernadya/sia...</td>\n",
       "      <td>bernadya</td>\n",
       "      <td>sialnya-hidup-harus-tetap-berjalan</td>\n",
       "      <td>Ini yang takkan kautahu\\nBetapa beratnya malam...</td>\n",
       "    </tr>\n",
       "    <tr>\n",
       "      <th>10</th>\n",
       "      <td>https://lirik.kapanlagi.com/artis/bernadya/sin...</td>\n",
       "      <td>bernadya</td>\n",
       "      <td>sinyal-sinyal</td>\n",
       "      <td>[Verse 1]\\nSinyal-sinyal darimu tak jelas\\nAta...</td>\n",
       "    </tr>\n",
       "    <tr>\n",
       "      <th>11</th>\n",
       "      <td>https://lirik.kapanlagi.com/artis/bernadya/ter...</td>\n",
       "      <td>bernadya</td>\n",
       "      <td>terlintas</td>\n",
       "      <td>[Verse 1]\\nTerlintas di kepala\\nSebelum kupeja...</td>\n",
       "    </tr>\n",
       "    <tr>\n",
       "      <th>12</th>\n",
       "      <td>https://lirik.kapanlagi.com/artis/bernadya/unt...</td>\n",
       "      <td>bernadya</td>\n",
       "      <td>untungnya-hidup-harus-tetap-berjalan</td>\n",
       "      <td>Persis setahun yang lalu\\nKu dijauhkan dari ya...</td>\n",
       "    </tr>\n",
       "  </tbody>\n",
       "</table>\n",
       "</div>"
      ],
      "text/plain": [
       "                                                 link    artist  \\\n",
       "0   https://lirik.kapanlagi.com/artis/bernadya/amb...  bernadya   \n",
       "1   https://lirik.kapanlagi.com/artis/bernadya/apa...  bernadya   \n",
       "2   https://lirik.kapanlagi.com/artis/bernadya/ber...  bernadya   \n",
       "3   https://lirik.kapanlagi.com/artis/bernadya/kat...  bernadya   \n",
       "4   https://lirik.kapanlagi.com/artis/bernadya/kin...  bernadya   \n",
       "5   https://lirik.kapanlagi.com/artis/bernadya/kit...  bernadya   \n",
       "6   https://lirik.kapanlagi.com/artis/bernadya/lam...  bernadya   \n",
       "7   https://lirik.kapanlagi.com/artis/bernadya/mas...  bernadya   \n",
       "8   https://lirik.kapanlagi.com/artis/bernadya/sat...  bernadya   \n",
       "9   https://lirik.kapanlagi.com/artis/bernadya/sia...  bernadya   \n",
       "10  https://lirik.kapanlagi.com/artis/bernadya/sin...  bernadya   \n",
       "11  https://lirik.kapanlagi.com/artis/bernadya/ter...  bernadya   \n",
       "12  https://lirik.kapanlagi.com/artis/bernadya/unt...  bernadya   \n",
       "\n",
       "                                   title  \\\n",
       "0                           ambang-pintu   \n",
       "1                            apa-mungkin   \n",
       "2                                berlari   \n",
       "3             kata-mereka-ini-berlebihan   \n",
       "4                       kini-mereka-tahu   \n",
       "5                 kita-kubur-sampai-mati   \n",
       "6                              lama-lama   \n",
       "7                              masa-sepi   \n",
       "8                             satu-bulan   \n",
       "9     sialnya-hidup-harus-tetap-berjalan   \n",
       "10                         sinyal-sinyal   \n",
       "11                             terlintas   \n",
       "12  untungnya-hidup-harus-tetap-berjalan   \n",
       "\n",
       "                                               lyrics  \n",
       "0   [Verse 1]\\nPerpisahan yang cukup dingin di awa...  \n",
       "1   Arungi malam\\nTerjaga kala semua tlah terbenam...  \n",
       "2   Seperti yang telah kuduga\\nTujuh hari menghila...  \n",
       "3   Ku tak pernah ikat rambutku lagi semenjak kaub...  \n",
       "4   Dari dulu kulebih-lebihkan semua\\nPadahal yang...  \n",
       "5   [Verse 1]\\nHening, sepanjang perjalanan pulang...  \n",
       "6   Berusaha tetap terjaga\\nTunggu kamu selesaikan...  \n",
       "7   [Verse 1]\\nRasa ini datang lagi\\nNamamu belum ...  \n",
       "8   Belum ada satu bulan\\nKu yakin masih ada sisa ...  \n",
       "9   Ini yang takkan kautahu\\nBetapa beratnya malam...  \n",
       "10  [Verse 1]\\nSinyal-sinyal darimu tak jelas\\nAta...  \n",
       "11  [Verse 1]\\nTerlintas di kepala\\nSebelum kupeja...  \n",
       "12  Persis setahun yang lalu\\nKu dijauhkan dari ya...  "
      ]
     },
     "execution_count": 51,
     "metadata": {},
     "output_type": "execute_result"
    }
   ],
   "source": [
    "df_bernadya = pd.DataFrame.from_dict(song_lyrics) \n",
    "df_bernadya"
   ]
  },
  {
   "cell_type": "code",
   "execution_count": 53,
   "id": "7cea6763-65dc-4a81-ac11-400f2e55fb53",
   "metadata": {
    "tags": []
   },
   "outputs": [
    {
     "name": "stdout",
     "output_type": "stream",
     "text": [
      "(7145, 4)\n"
     ]
    },
    {
     "data": {
      "text/html": [
       "<div>\n",
       "<style scoped>\n",
       "    .dataframe tbody tr th:only-of-type {\n",
       "        vertical-align: middle;\n",
       "    }\n",
       "\n",
       "    .dataframe tbody tr th {\n",
       "        vertical-align: top;\n",
       "    }\n",
       "\n",
       "    .dataframe thead th {\n",
       "        text-align: right;\n",
       "    }\n",
       "</style>\n",
       "<table border=\"1\" class=\"dataframe\">\n",
       "  <thead>\n",
       "    <tr style=\"text-align: right;\">\n",
       "      <th></th>\n",
       "      <th>link</th>\n",
       "      <th>title</th>\n",
       "      <th>artist</th>\n",
       "      <th>lyrics</th>\n",
       "    </tr>\n",
       "  </thead>\n",
       "  <tbody>\n",
       "    <tr>\n",
       "      <th>15000</th>\n",
       "      <td>https://lirik.kapanlagi.com/artis/search/pawana/</td>\n",
       "      <td>Pawana</td>\n",
       "      <td>Search</td>\n",
       "      <td>Bermula sebuah cerita\\nDi zaman dulu kala\\nMud...</td>\n",
       "    </tr>\n",
       "    <tr>\n",
       "      <th>15001</th>\n",
       "      <td>https://lirik.kapanlagi.com/artis/siti-nurhali...</td>\n",
       "      <td>Pawana Sampaikanlah Rasa</td>\n",
       "      <td>Siti Nurhaliza</td>\n",
       "      <td>Orang berbangsa\\nPancarnya telus ke hati\\nOran...</td>\n",
       "    </tr>\n",
       "    <tr>\n",
       "      <th>15002</th>\n",
       "      <td>https://lirik.kapanlagi.com/artis/happy-asmara...</td>\n",
       "      <td>Pawang Cinta</td>\n",
       "      <td>Happy Asmara</td>\n",
       "      <td>kadung jeru tresnoku kanggo awakmu\\nkabeh wis ...</td>\n",
       "    </tr>\n",
       "    <tr>\n",
       "      <th>15003</th>\n",
       "      <td>https://lirik.kapanlagi.com/artis/vidi-aldiano...</td>\n",
       "      <td>Payphone (Cover)</td>\n",
       "      <td>Vidi Aldiano</td>\n",
       "      <td>I'm at a payphone trying to call home\\nAll of ...</td>\n",
       "    </tr>\n",
       "    <tr>\n",
       "      <th>15004</th>\n",
       "      <td>https://lirik.kapanlagi.com/artis/ana-fitria/p...</td>\n",
       "      <td>Payung Batu</td>\n",
       "      <td>Ana Fitria</td>\n",
       "      <td>Soko kangenku\\nAku teko neng kutomu\\nNggowo ke...</td>\n",
       "    </tr>\n",
       "  </tbody>\n",
       "</table>\n",
       "</div>"
      ],
      "text/plain": [
       "                                                    link  \\\n",
       "15000   https://lirik.kapanlagi.com/artis/search/pawana/   \n",
       "15001  https://lirik.kapanlagi.com/artis/siti-nurhali...   \n",
       "15002  https://lirik.kapanlagi.com/artis/happy-asmara...   \n",
       "15003  https://lirik.kapanlagi.com/artis/vidi-aldiano...   \n",
       "15004  https://lirik.kapanlagi.com/artis/ana-fitria/p...   \n",
       "\n",
       "                          title          artist  \\\n",
       "15000                    Pawana          Search   \n",
       "15001  Pawana Sampaikanlah Rasa  Siti Nurhaliza   \n",
       "15002              Pawang Cinta    Happy Asmara   \n",
       "15003          Payphone (Cover)    Vidi Aldiano   \n",
       "15004               Payung Batu      Ana Fitria   \n",
       "\n",
       "                                                  lyrics  \n",
       "15000  Bermula sebuah cerita\\nDi zaman dulu kala\\nMud...  \n",
       "15001  Orang berbangsa\\nPancarnya telus ke hati\\nOran...  \n",
       "15002  kadung jeru tresnoku kanggo awakmu\\nkabeh wis ...  \n",
       "15003  I'm at a payphone trying to call home\\nAll of ...  \n",
       "15004  Soko kangenku\\nAku teko neng kutomu\\nNggowo ke...  "
      ]
     },
     "execution_count": 53,
     "metadata": {},
     "output_type": "execute_result"
    }
   ],
   "source": [
    "df_2 = pd.read_csv(\"./indonesian_songs_lyrics.csv\")\n",
    "\n",
    "df_test = df_2.iloc[15000:]\n",
    "print(df_test.shape)\n",
    "df_test.head()"
   ]
  },
  {
   "cell_type": "code",
   "execution_count": 56,
   "id": "708cece3-5b5d-41fc-a109-f1aa62db82e1",
   "metadata": {
    "tags": []
   },
   "outputs": [
    {
     "name": "stdout",
     "output_type": "stream",
     "text": [
      "7184\n"
     ]
    },
    {
     "data": {
      "text/html": [
       "<div>\n",
       "<style scoped>\n",
       "    .dataframe tbody tr th:only-of-type {\n",
       "        vertical-align: middle;\n",
       "    }\n",
       "\n",
       "    .dataframe tbody tr th {\n",
       "        vertical-align: top;\n",
       "    }\n",
       "\n",
       "    .dataframe thead th {\n",
       "        text-align: right;\n",
       "    }\n",
       "</style>\n",
       "<table border=\"1\" class=\"dataframe\">\n",
       "  <thead>\n",
       "    <tr style=\"text-align: right;\">\n",
       "      <th></th>\n",
       "      <th>link</th>\n",
       "      <th>artist</th>\n",
       "      <th>title</th>\n",
       "      <th>lyrics</th>\n",
       "    </tr>\n",
       "  </thead>\n",
       "  <tbody>\n",
       "    <tr>\n",
       "      <th>0</th>\n",
       "      <td>https://lirik.kapanlagi.com/artis/bernadya/amb...</td>\n",
       "      <td>bernadya</td>\n",
       "      <td>ambang-pintu</td>\n",
       "      <td>[Verse 1]\\nPerpisahan yang cukup dingin di awa...</td>\n",
       "    </tr>\n",
       "    <tr>\n",
       "      <th>1</th>\n",
       "      <td>https://lirik.kapanlagi.com/artis/bernadya/apa...</td>\n",
       "      <td>bernadya</td>\n",
       "      <td>apa-mungkin</td>\n",
       "      <td>Arungi malam\\nTerjaga kala semua tlah terbenam...</td>\n",
       "    </tr>\n",
       "    <tr>\n",
       "      <th>2</th>\n",
       "      <td>https://lirik.kapanlagi.com/artis/bernadya/ber...</td>\n",
       "      <td>bernadya</td>\n",
       "      <td>berlari</td>\n",
       "      <td>Seperti yang telah kuduga\\nTujuh hari menghila...</td>\n",
       "    </tr>\n",
       "    <tr>\n",
       "      <th>3</th>\n",
       "      <td>https://lirik.kapanlagi.com/artis/bernadya/kat...</td>\n",
       "      <td>bernadya</td>\n",
       "      <td>kata-mereka-ini-berlebihan</td>\n",
       "      <td>Ku tak pernah ikat rambutku lagi semenjak kaub...</td>\n",
       "    </tr>\n",
       "    <tr>\n",
       "      <th>4</th>\n",
       "      <td>https://lirik.kapanlagi.com/artis/bernadya/kin...</td>\n",
       "      <td>bernadya</td>\n",
       "      <td>kini-mereka-tahu</td>\n",
       "      <td>Dari dulu kulebih-lebihkan semua\\nPadahal yang...</td>\n",
       "    </tr>\n",
       "  </tbody>\n",
       "</table>\n",
       "</div>"
      ],
      "text/plain": [
       "                                                link    artist  \\\n",
       "0  https://lirik.kapanlagi.com/artis/bernadya/amb...  bernadya   \n",
       "1  https://lirik.kapanlagi.com/artis/bernadya/apa...  bernadya   \n",
       "2  https://lirik.kapanlagi.com/artis/bernadya/ber...  bernadya   \n",
       "3  https://lirik.kapanlagi.com/artis/bernadya/kat...  bernadya   \n",
       "4  https://lirik.kapanlagi.com/artis/bernadya/kin...  bernadya   \n",
       "\n",
       "                        title  \\\n",
       "0                ambang-pintu   \n",
       "1                 apa-mungkin   \n",
       "2                     berlari   \n",
       "3  kata-mereka-ini-berlebihan   \n",
       "4            kini-mereka-tahu   \n",
       "\n",
       "                                              lyrics  \n",
       "0  [Verse 1]\\nPerpisahan yang cukup dingin di awa...  \n",
       "1  Arungi malam\\nTerjaga kala semua tlah terbenam...  \n",
       "2  Seperti yang telah kuduga\\nTujuh hari menghila...  \n",
       "3  Ku tak pernah ikat rambutku lagi semenjak kaub...  \n",
       "4  Dari dulu kulebih-lebihkan semua\\nPadahal yang...  "
      ]
     },
     "execution_count": 56,
     "metadata": {},
     "output_type": "execute_result"
    }
   ],
   "source": [
    "frames = [df_bernadya, df_test]\n",
    "\n",
    "df_test = pd.concat(frames)\n",
    "\n",
    "print(df_test.shape[0])\n",
    "df_test.head()"
   ]
  },
  {
   "cell_type": "code",
   "execution_count": 57,
   "id": "5ddb4e9c-195f-40de-ad85-4e783f323875",
   "metadata": {
    "tags": []
   },
   "outputs": [],
   "source": [
    "df_test = df_test.dropna(subset=['lyrics'])\n",
    "\n",
    "corpus_test =''\n",
    "for idx, row in df_test.iterrows():\n",
    "    \n",
    "    corpus_test += row[\"lyrics\"] + \"\\n\"\n",
    "# gak di stemming karena lirik lagu\n",
    "corpus_test = corpus_test.lower() "
   ]
  },
  {
   "cell_type": "code",
   "execution_count": 58,
   "id": "0759948f-573b-4632-b4cb-32b54cd80b11",
   "metadata": {
    "tags": []
   },
   "outputs": [
    {
     "name": "stdout",
     "output_type": "stream",
     "text": [
      "4154045\n",
      "1000000\n",
      "sudah lama kutunggu kamu\n",
      "menemani hariku\n",
      "hapus luka di hatiku\n",
      "reff \n",
      "bagaimana ku mengungkap cinta\n",
      "ji\n"
     ]
    }
   ],
   "source": [
    "print(len(corpus_test))\n",
    "corpus_test = corpus_test[:1000000]\n",
    "print(len(corpus_test))\n",
    "\n",
    "pattern = r\"[a-zA-Z\\s,\\-]+\"\n",
    "\n",
    "matches = re.findall(pattern, corpus_test)\n",
    "\n",
    "corpus_test = ''.join(matches)\n",
    "\n",
    "print(corpus_test[60000:60100])"
   ]
  },
  {
   "cell_type": "code",
   "execution_count": 59,
   "id": "d4fee620-be41-4358-89aa-054e80b12485",
   "metadata": {
    "tags": []
   },
   "outputs": [
    {
     "data": {
      "text/plain": [
       "<tf.Tensor: shape=(987362,), dtype=int64, numpy=array([28,  7, 12, ...,  5, 17,  6])>"
      ]
     },
     "execution_count": 59,
     "metadata": {},
     "output_type": "execute_result"
    }
   ],
   "source": [
    "encoded_test = text_vec_layer([corpus_test])[0]\n",
    "encoded_test"
   ]
  },
  {
   "cell_type": "code",
   "execution_count": 60,
   "id": "ee35cf26-64ef-4b57-9492-4923226521cf",
   "metadata": {
    "tags": []
   },
   "outputs": [
    {
     "data": {
      "text/plain": [
       "<tf.Tensor: shape=(987362,), dtype=int64, numpy=array([26,  5, 10, ...,  3, 15,  4])>"
      ]
     },
     "execution_count": 60,
     "metadata": {},
     "output_type": "execute_result"
    }
   ],
   "source": [
    "encoded_test -= 2\n",
    "encoded_test"
   ]
  },
  {
   "cell_type": "code",
   "execution_count": 65,
   "id": "4d8087fa-2f63-47f5-9cb0-6dc1b4979d2b",
   "metadata": {
    "tags": []
   },
   "outputs": [],
   "source": [
    "test_set = to_dataset(encoded_test[:], length=length, shuffle=False, seed=42, batch_size=512)\n"
   ]
  },
  {
   "cell_type": "code",
   "execution_count": 66,
   "id": "b4e84d44-52f4-4e6b-bc90-29cd4091edde",
   "metadata": {
    "tags": []
   },
   "outputs": [
    {
     "name": "stderr",
     "output_type": "stream",
     "text": [
      "2024-10-31 14:21:21.195258: I external/local_xla/xla/stream_executor/cuda/cuda_dnn.cc:454] Loaded cuDNN version 8907\n"
     ]
    },
    {
     "name": "stdout",
     "output_type": "stream",
     "text": [
      "1929/1929 [==============================] - 252s 129ms/step - loss: 1.1492 - accuracy: 0.6260\n"
     ]
    },
    {
     "name": "stderr",
     "output_type": "stream",
     "text": [
      "2024-10-31 14:25:29.364254: I tensorflow/core/framework/local_rendezvous.cc:421] Local rendezvous recv item cancelled. Key hash: 15016145430406720403\n",
      "2024-10-31 14:25:29.364324: I tensorflow/core/framework/local_rendezvous.cc:421] Local rendezvous recv item cancelled. Key hash: 15595529222836369652\n",
      "2024-10-31 14:25:29.364358: I tensorflow/core/framework/local_rendezvous.cc:421] Local rendezvous recv item cancelled. Key hash: 7846869017441885564\n"
     ]
    }
   ],
   "source": [
    "loss, accuracy = model.evaluate(test_set)"
   ]
  },
  {
   "cell_type": "code",
   "execution_count": 85,
   "id": "611cdd76-12cc-4093-9e21-d480229a81ee",
   "metadata": {
    "tags": []
   },
   "outputs": [
    {
     "name": "stdout",
     "output_type": "stream",
     "text": [
      "perplexity:  tf.Tensor(3.1556082, shape=(), dtype=float32)\n"
     ]
    }
   ],
   "source": [
    "print(\"perplexity: \", perplexity_loss(loss))"
   ]
  },
  {
   "cell_type": "code",
   "execution_count": 86,
   "id": "efa0e2e3-5493-4626-b967-c1178c1b871c",
   "metadata": {
    "tags": []
   },
   "outputs": [
    {
     "name": "stdout",
     "output_type": "stream",
     "text": [
      "Lembaran foto hitam-putih \n",
      " Aku coba ingat lagi warna bajumu kala itu \n",
      " Kali pertama di hidupku\n",
      "sebagai seorang pengecut bersama\n",
      "bukan terbang terbang menuju kepala\n",
      "semua kenangan yang tak terbatas\n",
      "ku tak mampu tuk mengerti dirimu\n",
      "aku tak mampu untuk mengerti\n",
      "semua yang terjadi\n",
      "kau yang selalu ku cinta\n",
      "kau tak pernah menyayangiku\n",
      "sebelum kau mengerti\n",
      "sebelum kau bersedih\n",
      "sebelum kita bersama\n",
      "dan kini ku pasti\n",
      "kau tak mungkin lagi\n",
      "ku tak ingin menyatu\n",
      "di dalam hatiku\n",
      "mengapa kau tak mengerti\n",
      "apa yang terjadi\n",
      "kau tak mengerti\n",
      "dan mengerti aku\n",
      "selamanya\n",
      "kau mencintaiku\n",
      "semua ini\n",
      "sebuah kisah cinta\n",
      "yang kan ku jaga\n",
      "perasaan yang kau beri\n",
      "sesungguhnya tercipta\n",
      "aku tak mengerti\n",
      "kau menyayangiku\n",
      "senyum manismu\n",
      "sayang cintaku selalu\n",
      "terangi dalam terang\n",
      "terbang melayang\n",
      "dan kau telah menghila\n"
     ]
    }
   ],
   "source": [
    "print(generate_text(\"Lembaran foto hitam-putih \\n Aku coba ingat lagi warna bajumu kala itu \\n Kali pertama di hidupku\", 700, 0.4))"
   ]
  },
  {
   "cell_type": "code",
   "execution_count": 87,
   "id": "ed3fd9d3-6c69-4956-ad06-eb068ecb612a",
   "metadata": {
    "tags": []
   },
   "outputs": [
    {
     "name": "stdout",
     "output_type": "stream",
     "text": [
      "Belum ada satu bulan\n",
      "bersama dengan sebuah jawaban\n",
      "sebagai satu di hati yang tak berarti\n",
      "di saat ku berpaling darimu\n",
      "sebuah cinta yang dulu pernah kau terima\n",
      "seandainya kau mengerti aku sebuah cinta yang selama ini\n",
      "kau buatku berharap padamu sepenuh hati\n",
      "mengapa kau tak bisa mengerti aku\n",
      "selamanya terdalam sebuah cinta\n",
      "semua yang kau punya\n",
      "berbagai kasih sayang\n",
      "semua yang kau pernah pergi\n",
      "ku tak mau mengerti\n",
      "mengapa kau berada\n",
      "bila kau tak tahu\n",
      "kau bilang aku tak bisa\n",
      "bersama selalu\n",
      "selamanya\n",
      "aku tak bisa tuk menghadapimu\n",
      "kembali ke reff\n",
      "kau tak pernah menyerah\n",
      "selamanya\n",
      "selalu ku dambakan\n",
      "dalam anganku menjadi sebuah kisah cinta\n",
      "sebelum kau tak di sisiku\n",
      "ku mencintaimu\n",
      "terasa menjadi berat tak pernah ku menger\n"
     ]
    }
   ],
   "source": [
    "print(generate_text(\"Belum ada satu bulan\", 700, 0.4))"
   ]
  },
  {
   "cell_type": "code",
   "execution_count": 88,
   "id": "1f820a30-2482-45b2-a754-37400c4caff1",
   "metadata": {
    "tags": []
   },
   "outputs": [
    {
     "name": "stdout",
     "output_type": "stream",
     "text": [
      "Untungnya, bumi masih berputar\n",
      "Untungnya, ku tak pilih menyerah\n",
      "aku tak bisa mengatakan\n",
      "tak mampu ku mengerti semua ini\n",
      "kan ku berikan semua yang terjadi\n",
      "dan aku tak mampu bertahan\n",
      "dan tak mudah berpisah\n",
      "sebentar saja ku terbawa\n",
      "tak seperti yang ku mau\n",
      "aku selalu mencintaimu\n",
      "mereka berhenti hidup tanpa sebuah kisah kita\n",
      "aku tak mampu untuk menangis di hatimu\n",
      "sebelum ku pergi dari semua kenangan\n",
      "terus berjalan di hatimu\n",
      "tersenyum mengalir dalam hidupku\n",
      "ku tak mampu bertahan\n",
      "kau tak pernah berhenti\n",
      "ku tak mampu menemukan semua hari ini\n",
      "kau dan aku telah menghancurkan semua\n",
      "sebagai berita pun menghadapi ku tak menyerah\n",
      "dan tak kan mungkin ku terus mencintaimu\n",
      "sebelum kau tinggalkan aku\n",
      "teruslah berharap kau kan selalu di hatiku\n",
      "semoga kau tak pernah menger\n"
     ]
    }
   ],
   "source": [
    "print(generate_text(\"Untungnya, bumi masih berputar\\nUntungnya, ku tak pilih menyerah\", 700, 0.4\n",
    "                   ))"
   ]
  },
  {
   "cell_type": "code",
   "execution_count": 89,
   "id": "503f5b09-e5d0-43d6-a801-ad263883e9a0",
   "metadata": {
    "tags": []
   },
   "outputs": [
    {
     "name": "stdout",
     "output_type": "stream",
     "text": [
      "Kukira takkan ada kendala\n",
      "Kukira inikan mudah tuk mengganti\n",
      "kau curi cara berdua dengannya\n",
      "sampai kapan ku merasakan kehidupanku\n",
      "sebagai satu keindahan yang ku rasa\n",
      "kau tak mengerti aku dan kamu sebelum kau mengerti\n",
      "karena aku sudah tak sanggup lagi\n",
      "ku tak bisa menjadi milikmu\n",
      "sebenarnya kau terjatuh dariku\n",
      "setelah kau mengerti\n",
      "semua yang ku rasa\n",
      "aku tak mau tak mengerti\n",
      "apa yang ku mau\n",
      "ku kan slalu mengerti\n",
      "apa yang kau mau\n",
      "ku mencintaimu\n",
      "terima kasih sayang\n",
      "ku tak mau bila kau mengerti\n",
      "ku selalu mengharap kau dan aku\n",
      "ku tak mampu menghilang ke dalam hatiku\n",
      "dan ku sadari semua rasa ini\n",
      "semua yang ku berikan untuk selamanya\n",
      "aku tak mau tak mungkin tuk bertemu\n",
      "tak akan terulang lagi\n",
      "ku tak ingin kau lepaskan aku\n",
      "sebelum kau bersamaku ta\n"
     ]
    }
   ],
   "source": [
    "print(generate_text(\"Kukira takkan ada kendala\\nKukira inikan mudah\", 700, 0.4))"
   ]
  },
  {
   "cell_type": "code",
   "execution_count": 90,
   "id": "a5e75be3-4728-453f-98e2-8d2a4ad692cd",
   "metadata": {
    "tags": []
   },
   "outputs": [
    {
     "name": "stdout",
     "output_type": "stream",
     "text": [
      "Apa mungkin caraku bicara\n",
      "Apa mungkin caraku tertawa\n",
      "selamanya\n",
      "ku tak kuasa selalu ada\n",
      "di saat ku terpesona\n",
      "tak ada yang tahu ku disini\n",
      "semua ku kenang semua ini\n",
      "sebuah cinta sejati\n",
      "tak selamanya ku tak mampu\n",
      "dari semua kenangan yang tlah berlalu\n",
      "sebelum kau tinggalkan aku\n",
      "ku tak mau aku terbang tinggi mengenangmu\n",
      "sebelum kau menyayangiku\n",
      "ku tak mau tahu semua ini\n",
      "kau tak mengerti aku\n",
      "selamanya\n",
      "sendiri tanpa dirimu\n",
      "ku tak pernah menyayangimu\n",
      "semua yang kau cinta\n",
      "satu untukku\n",
      "setiap ku mencintaimu\n",
      "dan ku tak pernah tahu\n",
      "sebelum kau pergi\n",
      "tak pernah ku berikan semua cinta ini\n",
      "sebelum ku terluka\n",
      "di dalam hidupku\n",
      "tak ada kata yang ku rasa\n",
      "semua ini terjadi\n",
      "ku tak bisa menjadi bahagia\n",
      "yang menyakitkan hatiku\n",
      "mengapa kau tak mau mengerti\n",
      "ku tak mau\n"
     ]
    }
   ],
   "source": [
    "print(generate_text(\"Apa mungkin caraku bicara\\nApa mungkin caraku tertawa\", 700, 0.4))"
   ]
  },
  {
   "cell_type": "code",
   "execution_count": null,
   "id": "79ecd01e-2091-45f3-ba4c-4e2cff87ed50",
   "metadata": {},
   "outputs": [],
   "source": []
  },
  {
   "cell_type": "code",
   "execution_count": 93,
   "id": "7532685c-2118-4b15-9330-ab6c6a2e0d47",
   "metadata": {
    "tags": []
   },
   "outputs": [],
   "source": [
    "# mungkin kalau pakai transformer decoder lebih masuk akal liriknya"
   ]
  },
  {
   "cell_type": "code",
   "execution_count": 119,
   "id": "00a9a79a-a50b-4413-8f9e-d39050650133",
   "metadata": {
    "tags": []
   },
   "outputs": [],
   "source": [
    "# save & load disk"
   ]
  },
  {
   "cell_type": "code",
   "execution_count": 91,
   "id": "beab8292-1a8a-4da7-8a3b-4cf707ce9d74",
   "metadata": {
    "tags": []
   },
   "outputs": [],
   "source": [
    "model.save(\"indo_musician_ai_lstm.keras\")"
   ]
  },
  {
   "cell_type": "code",
   "execution_count": 109,
   "id": "b0e9c4d2-f605-412e-8189-8605edf72f78",
   "metadata": {
    "tags": []
   },
   "outputs": [],
   "source": [
    "# https://stackoverflow.com/questions/65103526/how-to-save-textvectorization-to-disk-in-tensorflow\n",
    "pickle.dump({'config': text_vec_layer.get_config(),\n",
    "             'weights': text_vec_layer.get_weights()}\n",
    "            , open(\"tv_layer.pkl\", \"wb\"))\n"
   ]
  },
  {
   "cell_type": "code",
   "execution_count": 112,
   "id": "50ff5839-e56a-4d21-b093-b2f36d03c742",
   "metadata": {
    "tags": []
   },
   "outputs": [],
   "source": [
    "\n",
    "from_disk = pickle.load(open(\"tv_layer.pkl\", \"rb\"))\n",
    "text_vec_layer_disk = tf.keras.layers.TextVectorization.from_config(from_disk['config'])\n",
    "# You have to call `adapt` with some dummy data (BUG in Keras)\n",
    "text_vec_layer_disk.adapt(tf.data.Dataset.from_tensor_slices([\"xyz\"]))\n",
    "text_vec_layer_disk.set_weights(from_disk['weights'])"
   ]
  },
  {
   "cell_type": "code",
   "execution_count": 113,
   "id": "92f680f7-9f8b-4777-9dcb-61dc28cef0c1",
   "metadata": {
    "tags": []
   },
   "outputs": [
    {
     "name": "stderr",
     "output_type": "stream",
     "text": [
      "WARNING:absl:Skipping variable loading for optimizer 'Adam', because it has 19 variables whereas the saved optimizer has 1 variables. \n"
     ]
    }
   ],
   "source": [
    "model_coba = tf.keras.models.load_model(\"indo_musician_ai_lstm.keras\")"
   ]
  },
  {
   "cell_type": "code",
   "execution_count": 114,
   "id": "f5e503d3-d1d4-4b40-a62c-22f1960b989d",
   "metadata": {
    "tags": []
   },
   "outputs": [
    {
     "name": "stdout",
     "output_type": "stream",
     "text": [
      "Model: \"sequential\"\n",
      "_________________________________________________________________\n",
      " Layer (type)                Output Shape              Param #   \n",
      "=================================================================\n",
      " embedding (Embedding)       (None, None, 100)         3300      \n",
      "                                                                 \n",
      " lstm (LSTM)                 (None, None, 512)         1255424   \n",
      "                                                                 \n",
      " dropout (Dropout)           (None, None, 512)         0         \n",
      "                                                                 \n",
      " lstm_1 (LSTM)               (None, None, 512)         2099200   \n",
      "                                                                 \n",
      " dropout_1 (Dropout)         (None, None, 512)         0         \n",
      "                                                                 \n",
      " dense (Dense)               (None, None, 33)          16929     \n",
      "                                                                 \n",
      "=================================================================\n",
      "Total params: 3374853 (12.87 MB)\n",
      "Trainable params: 3374853 (12.87 MB)\n",
      "Non-trainable params: 0 (0.00 Byte)\n",
      "_________________________________________________________________\n"
     ]
    }
   ],
   "source": [
    "model_coba.summary()"
   ]
  },
  {
   "cell_type": "code",
   "execution_count": 115,
   "id": "faf0e6ca-2647-4e33-9ce7-a04895eb0cce",
   "metadata": {
    "tags": []
   },
   "outputs": [],
   "source": [
    "music_ai_model_coba = tf.keras.Sequential([\n",
    "    text_vec_layer_disk,\n",
    "    tf.keras.layers.Lambda(lambda X: X - 2),\n",
    "    model_coba\n",
    "])"
   ]
  },
  {
   "cell_type": "code",
   "execution_count": 116,
   "id": "b5b50a68-7b4d-46c3-b494-ae3071aa559a",
   "metadata": {
    "tags": []
   },
   "outputs": [],
   "source": [
    "def temperature_sample_coba(text, temperature=1):\n",
    "    \n",
    "    y_proba = music_ai_model_coba.predict([text], verbose=0)[0, -1:]\n",
    "    y_proba = tf.squeeze(y_proba)\n",
    "    \n",
    "    preds = np.asarray(y_proba).astype(\"float64\")\n",
    "    preds = np.log(preds) / temperature\n",
    "    exp_preds = np.exp(preds)\n",
    "    preds = exp_preds / np.sum(exp_preds)\n",
    "    probas = np.random.multinomial(1, preds, 1)\n",
    "    char_id =  np.argmax(probas)\n",
    "    return text_vec_layer.get_vocabulary()[char_id + 2]\n"
   ]
  },
  {
   "cell_type": "code",
   "execution_count": 117,
   "id": "7898d969-e376-4866-a938-124a1b27b21f",
   "metadata": {
    "tags": []
   },
   "outputs": [],
   "source": [
    "def generate_text_coba(text, n_chars=50, temperature=0.5):\n",
    "    for _ in range(n_chars):\n",
    "        text += temperature_sample(text, temperature)\n",
    "    return text"
   ]
  },
  {
   "cell_type": "code",
   "execution_count": 118,
   "id": "9193984d-d198-47a1-a3ac-30c20c4c156a",
   "metadata": {
    "tags": []
   },
   "outputs": [
    {
     "name": "stdout",
     "output_type": "stream",
     "text": [
      "Apa mungkin caraku bicara\n",
      "Apa mungkin caraku tertawa\n",
      "ku ingin kau tahu kau tak mampu mengerti\n",
      "biarkan aku tuk menjadi teman bersamamu\n",
      "semua ku sayang kamu\n",
      "ku ingin kau mengerti aku\n",
      "katakan sebuah kesempatan tuk mencintaimu\n",
      "tak seperti yang kau mau kau dan aku\n",
      "karena kamu selalu menunggu\n",
      "sampai akhir hidupku ini\n",
      "kau selalu ada di hatiku\n",
      "tak akan terulang lagi\n",
      "ku tak akan pernah bersamamu\n",
      "semua ini menyayangimu\n",
      "seperti kamu tak semudah itu\n",
      "karena kamu selalu mengharapkanku\n",
      "bila kau tak kuat mengerti semua ini\n",
      "kau tak pernah bisa\n",
      "biarkan aku mengerti semua ini\n",
      "aku tak sanggup lagi\n",
      "menjadi sebuah mimpi\n",
      "maafkan aku yang terbaik untukmu\n",
      "semua yang terjadi kau tak pernah menyakiti\n",
      "karena ku tak mampu mengharapkanmu\n",
      "terlalu berarti di hatiku\n",
      "ku tak b\n"
     ]
    }
   ],
   "source": [
    "print(generate_text_coba(\"Apa mungkin caraku bicara\\nApa mungkin caraku tertawa\", 700, 0.4))"
   ]
  },
  {
   "cell_type": "code",
   "execution_count": 121,
   "id": "3b16cd52-8f35-40d8-bd88-f6f200b37b1e",
   "metadata": {
    "tags": []
   },
   "outputs": [],
   "source": [
    "# save embedding buat visualiasi"
   ]
  },
  {
   "cell_type": "code",
   "execution_count": 144,
   "id": "e679ced8-fada-4c1e-9271-bbd32cf6d191",
   "metadata": {
    "tags": []
   },
   "outputs": [],
   "source": [
    "# gak penting liat character\n",
    "# embedding_layer = model.layers[0]\n",
    "# embedding_weights = embedding_layer.get_weights()[0]\n",
    "# print(embedding_weights.shape)\n",
    "# out_v = io.open('vecs.tsv', 'w', encoding='utf-8')\n",
    "# out_m = io.open('meta.tsv', 'w', encoding='utf-8')\n",
    "# vocabulary = text_vec_layer.get_vocabulary()[2:] # gak pake UNK & padding\n",
    "# print(vocabulary)\n",
    "# print(len(vocabulary))\n",
    "# for word_num in range(0, len(vocabulary)):\n",
    "#     word_name = vocabulary[word_num]\n",
    "#     print(f\"{word_name}\")\n",
    "#     word_embedding = embedding_weights[word_num]\n",
    "    \n",
    "#     if word_num == 30:\n",
    "#         out_m.write(\"\\t\" + \"\\n\")\n",
    "#     elif word_num == 31:\n",
    "#         out_m.write(\"\\xa0\" + \"\\n\")\n",
    "#     elif word_num == 32:\n",
    "#         out_m.write(\"\\u2028\" + \"\\n\")\n",
    "#     else:\n",
    "#         out_m.write(word_name + \"\\n\")\n",
    "\n",
    "#     out_v.write('\\t'.join([str(x) for x in word_embedding]) + \"\\n\")\n",
    "# out_v.close()\n",
    "# out_m.close()"
   ]
  },
  {
   "cell_type": "code",
   "execution_count": 128,
   "id": "9fb22246-82ee-48bd-a442-0cbfa8af2423",
   "metadata": {
    "tags": []
   },
   "outputs": [],
   "source": []
  },
  {
   "cell_type": "code",
   "execution_count": null,
   "id": "cc6e3121-04ea-4b42-851c-b56d39e6aec2",
   "metadata": {},
   "outputs": [],
   "source": []
  }
 ],
 "metadata": {
  "kaggle": {
   "accelerator": "nvidiaTeslaT4",
   "dataSources": [
    {
     "datasetId": 1510541,
     "sourceId": 2495108,
     "sourceType": "datasetVersion"
    }
   ],
   "dockerImageVersionId": 30787,
   "isGpuEnabled": true,
   "isInternetEnabled": true,
   "language": "python",
   "sourceType": "notebook"
  },
  "kernelspec": {
   "display_name": "Python 3 (ipykernel)",
   "language": "python",
   "name": "python3"
  },
  "language_info": {
   "codemirror_mode": {
    "name": "ipython",
    "version": 3
   },
   "file_extension": ".py",
   "mimetype": "text/x-python",
   "name": "python",
   "nbconvert_exporter": "python",
   "pygments_lexer": "ipython3",
   "version": "3.12.6"
  }
 },
 "nbformat": 4,
 "nbformat_minor": 5
}
